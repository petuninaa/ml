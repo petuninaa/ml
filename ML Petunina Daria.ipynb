{
 "cells": [
  {
   "cell_type": "markdown",
   "id": "13aad4d8",
   "metadata": {},
   "source": [
    "##### Импортрируем необходимые библиотеки"
   ]
  },
  {
   "cell_type": "code",
   "execution_count": 37,
   "id": "2bb7b753",
   "metadata": {},
   "outputs": [],
   "source": [
    "from sklearn.preprocessing import LabelEncoder\n",
    "from sklearn.model_selection import train_test_split\n",
    "from sklearn.preprocessing import StandardScaler\n",
    "from sklearn.neighbors import KNeighborsClassifier\n",
    "from sklearn.model_selection import GridSearchCV\n",
    "from sklearn.linear_model import LogisticRegression\n",
    "from sklearn.ensemble import RandomForestClassifier\n",
    "from sklearn.tree import DecisionTreeClassifier\n",
    "from sklearn.metrics import accuracy_score\n",
    "from sklearn.metrics import roc_auc_score\n",
    "import matplotlib.pyplot as plt\n",
    "from sklearn.metrics import roc_curve, auc\n",
    "import pandas as pd\n",
    "from sklearn import tree\n",
    "import numpy as np\n",
    "import warnings\n",
    "import os"
   ]
  },
  {
   "cell_type": "code",
   "execution_count": 2,
   "id": "110d1b26",
   "metadata": {},
   "outputs": [
    {
     "data": {
      "text/plain": [
       "'C:\\\\Users\\\\Mi'"
      ]
     },
     "execution_count": 2,
     "metadata": {},
     "output_type": "execute_result"
    }
   ],
   "source": [
    "os.getcwd()"
   ]
  },
  {
   "cell_type": "markdown",
   "id": "519d2425",
   "metadata": {},
   "source": [
    "##### Импорт данных"
   ]
  },
  {
   "cell_type": "markdown",
   "id": "c95f442c",
   "metadata": {},
   "source": [
    "**This dataset is structured to predict the most suitable crop to grow based on several agro-climatic parameters**"
   ]
  },
  {
   "cell_type": "code",
   "execution_count": 3,
   "id": "ba6c557e",
   "metadata": {},
   "outputs": [
    {
     "data": {
      "text/html": [
       "<div>\n",
       "<style scoped>\n",
       "    .dataframe tbody tr th:only-of-type {\n",
       "        vertical-align: middle;\n",
       "    }\n",
       "\n",
       "    .dataframe tbody tr th {\n",
       "        vertical-align: top;\n",
       "    }\n",
       "\n",
       "    .dataframe thead th {\n",
       "        text-align: right;\n",
       "    }\n",
       "</style>\n",
       "<table border=\"1\" class=\"dataframe\">\n",
       "  <thead>\n",
       "    <tr style=\"text-align: right;\">\n",
       "      <th></th>\n",
       "      <th>N</th>\n",
       "      <th>P</th>\n",
       "      <th>K</th>\n",
       "      <th>temperature</th>\n",
       "      <th>humidity</th>\n",
       "      <th>ph</th>\n",
       "      <th>rainfall</th>\n",
       "      <th>label</th>\n",
       "    </tr>\n",
       "  </thead>\n",
       "  <tbody>\n",
       "    <tr>\n",
       "      <th>0</th>\n",
       "      <td>90</td>\n",
       "      <td>42</td>\n",
       "      <td>43</td>\n",
       "      <td>20.879744</td>\n",
       "      <td>82.002744</td>\n",
       "      <td>6.502985</td>\n",
       "      <td>202.935536</td>\n",
       "      <td>rice</td>\n",
       "    </tr>\n",
       "    <tr>\n",
       "      <th>1</th>\n",
       "      <td>85</td>\n",
       "      <td>58</td>\n",
       "      <td>41</td>\n",
       "      <td>21.770462</td>\n",
       "      <td>80.319644</td>\n",
       "      <td>7.038096</td>\n",
       "      <td>226.655537</td>\n",
       "      <td>rice</td>\n",
       "    </tr>\n",
       "    <tr>\n",
       "      <th>2</th>\n",
       "      <td>60</td>\n",
       "      <td>55</td>\n",
       "      <td>44</td>\n",
       "      <td>23.004459</td>\n",
       "      <td>82.320763</td>\n",
       "      <td>7.840207</td>\n",
       "      <td>263.964248</td>\n",
       "      <td>rice</td>\n",
       "    </tr>\n",
       "    <tr>\n",
       "      <th>3</th>\n",
       "      <td>74</td>\n",
       "      <td>35</td>\n",
       "      <td>40</td>\n",
       "      <td>26.491096</td>\n",
       "      <td>80.158363</td>\n",
       "      <td>6.980401</td>\n",
       "      <td>242.864034</td>\n",
       "      <td>rice</td>\n",
       "    </tr>\n",
       "    <tr>\n",
       "      <th>4</th>\n",
       "      <td>78</td>\n",
       "      <td>42</td>\n",
       "      <td>42</td>\n",
       "      <td>20.130175</td>\n",
       "      <td>81.604873</td>\n",
       "      <td>7.628473</td>\n",
       "      <td>262.717340</td>\n",
       "      <td>rice</td>\n",
       "    </tr>\n",
       "  </tbody>\n",
       "</table>\n",
       "</div>"
      ],
      "text/plain": [
       "    N   P   K  temperature   humidity        ph    rainfall label\n",
       "0  90  42  43    20.879744  82.002744  6.502985  202.935536  rice\n",
       "1  85  58  41    21.770462  80.319644  7.038096  226.655537  rice\n",
       "2  60  55  44    23.004459  82.320763  7.840207  263.964248  rice\n",
       "3  74  35  40    26.491096  80.158363  6.980401  242.864034  rice\n",
       "4  78  42  42    20.130175  81.604873  7.628473  262.717340  rice"
      ]
     },
     "execution_count": 3,
     "metadata": {},
     "output_type": "execute_result"
    }
   ],
   "source": [
    "df = pd.read_csv('C:\\\\Users\\\\Mi\\\\Downloads\\\\Crop_recommendation.csv')\n",
    "df.head()"
   ]
  },
  {
   "cell_type": "code",
   "execution_count": 4,
   "id": "ea5e5223",
   "metadata": {},
   "outputs": [
    {
     "name": "stdout",
     "output_type": "stream",
     "text": [
      "<class 'pandas.core.frame.DataFrame'>\n",
      "RangeIndex: 2200 entries, 0 to 2199\n",
      "Data columns (total 8 columns):\n",
      " #   Column       Non-Null Count  Dtype  \n",
      "---  ------       --------------  -----  \n",
      " 0   N            2200 non-null   int64  \n",
      " 1   P            2200 non-null   int64  \n",
      " 2   K            2200 non-null   int64  \n",
      " 3   temperature  2200 non-null   float64\n",
      " 4   humidity     2200 non-null   float64\n",
      " 5   ph           2200 non-null   float64\n",
      " 6   rainfall     2200 non-null   float64\n",
      " 7   label        2200 non-null   object \n",
      "dtypes: float64(4), int64(3), object(1)\n",
      "memory usage: 137.6+ KB\n"
     ]
    },
    {
     "data": {
      "text/plain": [
       "(2200, 8)"
      ]
     },
     "execution_count": 4,
     "metadata": {},
     "output_type": "execute_result"
    }
   ],
   "source": [
    "# Первичный аналих данных\n",
    "df.info()\n",
    "df.shape"
   ]
  },
  {
   "cell_type": "code",
   "execution_count": 5,
   "id": "50537ccb",
   "metadata": {},
   "outputs": [
    {
     "data": {
      "text/plain": [
       "N              0\n",
       "P              0\n",
       "K              0\n",
       "temperature    0\n",
       "humidity       0\n",
       "ph             0\n",
       "rainfall       0\n",
       "label          0\n",
       "dtype: int64"
      ]
     },
     "execution_count": 5,
     "metadata": {},
     "output_type": "execute_result"
    }
   ],
   "source": [
    "# Анализ пропущенных значений\n",
    "df.isnull().sum()"
   ]
  },
  {
   "cell_type": "code",
   "execution_count": 6,
   "id": "1182b197",
   "metadata": {},
   "outputs": [
    {
     "data": {
      "text/plain": [
       "rice           100\n",
       "maize          100\n",
       "jute           100\n",
       "cotton         100\n",
       "coconut        100\n",
       "papaya         100\n",
       "orange         100\n",
       "apple          100\n",
       "muskmelon      100\n",
       "watermelon     100\n",
       "grapes         100\n",
       "mango          100\n",
       "banana         100\n",
       "pomegranate    100\n",
       "lentil         100\n",
       "blackgram      100\n",
       "mungbean       100\n",
       "mothbeans      100\n",
       "pigeonpeas     100\n",
       "kidneybeans    100\n",
       "chickpea       100\n",
       "coffee         100\n",
       "Name: label, dtype: int64"
      ]
     },
     "execution_count": 6,
     "metadata": {},
     "output_type": "execute_result"
    }
   ],
   "source": [
    "# Баланс классов\n",
    "df['label'].value_counts()"
   ]
  },
  {
   "cell_type": "code",
   "execution_count": 7,
   "id": "b0e90fc1",
   "metadata": {},
   "outputs": [
    {
     "data": {
      "text/plain": [
       "<AxesSubplot:>"
      ]
     },
     "execution_count": 7,
     "metadata": {},
     "output_type": "execute_result"
    },
    {
     "data": {
      "image/png": "[encoded data removed]",
      "text/plain": [
       "<Figure size 640x480 with 1 Axes>"
      ]
     },
     "metadata": {},
     "output_type": "display_data"
    }
   ],
   "source": [
    "df['temperature'].hist(bins=30)"
   ]
  },
  {
   "cell_type": "code",
   "execution_count": 8,
   "id": "8386cde9",
   "metadata": {},
   "outputs": [
    {
     "name": "stdout",
     "output_type": "stream",
     "text": [
      "0\n"
     ]
    }
   ],
   "source": [
    "# Анализ дубликатов\n",
    "num_duplicates = df.duplicated().sum()\n",
    "print(num_duplicates)"
   ]
  },
  {
   "cell_type": "markdown",
   "id": "d240c7d0",
   "metadata": {},
   "source": [
    "##### Кодирование целевой переменной"
   ]
  },
  {
   "cell_type": "code",
   "execution_count": 9,
   "id": "d91ef652",
   "metadata": {},
   "outputs": [
    {
     "name": "stdout",
     "output_type": "stream",
     "text": [
      "(2200,) (2200, 7)\n"
     ]
    }
   ],
   "source": [
    "y = df['label']\n",
    "X = df.drop('label', axis=1)\n",
    "print(y.shape, X.shape)"
   ]
  },
  {
   "cell_type": "code",
   "execution_count": 10,
   "id": "c923ab9a",
   "metadata": {},
   "outputs": [
    {
     "data": {
      "text/html": [
       "<div>\n",
       "<style scoped>\n",
       "    .dataframe tbody tr th:only-of-type {\n",
       "        vertical-align: middle;\n",
       "    }\n",
       "\n",
       "    .dataframe tbody tr th {\n",
       "        vertical-align: top;\n",
       "    }\n",
       "\n",
       "    .dataframe thead th {\n",
       "        text-align: right;\n",
       "    }\n",
       "</style>\n",
       "<table border=\"1\" class=\"dataframe\">\n",
       "  <thead>\n",
       "    <tr style=\"text-align: right;\">\n",
       "      <th></th>\n",
       "      <th>N</th>\n",
       "      <th>P</th>\n",
       "      <th>K</th>\n",
       "      <th>temperature</th>\n",
       "      <th>humidity</th>\n",
       "      <th>ph</th>\n",
       "      <th>rainfall</th>\n",
       "      <th>label</th>\n",
       "    </tr>\n",
       "  </thead>\n",
       "  <tbody>\n",
       "    <tr>\n",
       "      <th>0</th>\n",
       "      <td>90</td>\n",
       "      <td>42</td>\n",
       "      <td>43</td>\n",
       "      <td>20.879744</td>\n",
       "      <td>82.002744</td>\n",
       "      <td>6.502985</td>\n",
       "      <td>202.935536</td>\n",
       "      <td>20</td>\n",
       "    </tr>\n",
       "    <tr>\n",
       "      <th>1</th>\n",
       "      <td>85</td>\n",
       "      <td>58</td>\n",
       "      <td>41</td>\n",
       "      <td>21.770462</td>\n",
       "      <td>80.319644</td>\n",
       "      <td>7.038096</td>\n",
       "      <td>226.655537</td>\n",
       "      <td>20</td>\n",
       "    </tr>\n",
       "    <tr>\n",
       "      <th>2</th>\n",
       "      <td>60</td>\n",
       "      <td>55</td>\n",
       "      <td>44</td>\n",
       "      <td>23.004459</td>\n",
       "      <td>82.320763</td>\n",
       "      <td>7.840207</td>\n",
       "      <td>263.964248</td>\n",
       "      <td>20</td>\n",
       "    </tr>\n",
       "    <tr>\n",
       "      <th>3</th>\n",
       "      <td>74</td>\n",
       "      <td>35</td>\n",
       "      <td>40</td>\n",
       "      <td>26.491096</td>\n",
       "      <td>80.158363</td>\n",
       "      <td>6.980401</td>\n",
       "      <td>242.864034</td>\n",
       "      <td>20</td>\n",
       "    </tr>\n",
       "    <tr>\n",
       "      <th>4</th>\n",
       "      <td>78</td>\n",
       "      <td>42</td>\n",
       "      <td>42</td>\n",
       "      <td>20.130175</td>\n",
       "      <td>81.604873</td>\n",
       "      <td>7.628473</td>\n",
       "      <td>262.717340</td>\n",
       "      <td>20</td>\n",
       "    </tr>\n",
       "  </tbody>\n",
       "</table>\n",
       "</div>"
      ],
      "text/plain": [
       "    N   P   K  temperature   humidity        ph    rainfall  label\n",
       "0  90  42  43    20.879744  82.002744  6.502985  202.935536     20\n",
       "1  85  58  41    21.770462  80.319644  7.038096  226.655537     20\n",
       "2  60  55  44    23.004459  82.320763  7.840207  263.964248     20\n",
       "3  74  35  40    26.491096  80.158363  6.980401  242.864034     20\n",
       "4  78  42  42    20.130175  81.604873  7.628473  262.717340     20"
      ]
     },
     "execution_count": 10,
     "metadata": {},
     "output_type": "execute_result"
    }
   ],
   "source": [
    "# Кодирование зависимой переменной\n",
    "label_encoder = LabelEncoder()\n",
    "df['label'] = label_encoder.fit_transform(df['label'])\n",
    "df.head()"
   ]
  },
  {
   "cell_type": "code",
   "execution_count": 11,
   "id": "403193fc",
   "metadata": {},
   "outputs": [
    {
     "name": "stdout",
     "output_type": "stream",
     "text": [
      "{'apple': 0, 'banana': 1, 'blackgram': 2, 'chickpea': 3, 'coconut': 4, 'coffee': 5, 'cotton': 6, 'grapes': 7, 'jute': 8, 'kidneybeans': 9, 'lentil': 10, 'maize': 11, 'mango': 12, 'mothbeans': 13, 'mungbean': 14, 'muskmelon': 15, 'orange': 16, 'papaya': 17, 'pigeonpeas': 18, 'pomegranate': 19, 'rice': 20, 'watermelon': 21}\n"
     ]
    }
   ],
   "source": [
    "# Метки классов\n",
    "label_mapping = dict(zip(label_encoder.classes_, range(len(label_encoder.classes_))))\n",
    "print(label_mapping)"
   ]
  },
  {
   "cell_type": "markdown",
   "id": "8d5ad176",
   "metadata": {},
   "source": [
    "##### Разделение на обучающую и тестовую выборки"
   ]
  },
  {
   "cell_type": "code",
   "execution_count": 12,
   "id": "632c8c46",
   "metadata": {},
   "outputs": [
    {
     "name": "stdout",
     "output_type": "stream",
     "text": [
      "(1760, 7) (440, 7) (1760,) (440,)\n"
     ]
    }
   ],
   "source": [
    "scaler = StandardScaler()\n",
    "X_train, X_test, y_train, y_test = train_test_split(scaler.fit_transform(df.drop('label', axis=1)), df['label'], test_size = 0.2, random_state = 42)\n",
    "print(X_train.shape, X_test.shape, y_train.shape, y_test.shape)"
   ]
  },
  {
   "cell_type": "markdown",
   "id": "757b793b",
   "metadata": {},
   "source": [
    "### Метод k-ближайших соседей"
   ]
  },
  {
   "cell_type": "code",
   "execution_count": 13,
   "id": "c749abb7",
   "metadata": {},
   "outputs": [
    {
     "data": {
      "text/plain": [
       "KNeighborsClassifier(n_neighbors=3)"
      ]
     },
     "execution_count": 13,
     "metadata": {},
     "output_type": "execute_result"
    }
   ],
   "source": [
    "warnings.filterwarnings('ignore')\n",
    "knn = KNeighborsClassifier(n_neighbors = 3)\n",
    "knn.fit(X_train, y_train)"
   ]
  },
  {
   "cell_type": "markdown",
   "id": "b538f99c",
   "metadata": {},
   "source": [
    "##### Построение прогноза"
   ]
  },
  {
   "cell_type": "code",
   "execution_count": 14,
   "id": "8779fe04",
   "metadata": {},
   "outputs": [],
   "source": [
    "# Обучающая выборка\n",
    "y_pred_train = knn.predict(X_train)\n",
    "\n",
    "# Тестовая выборка\n",
    "y_pred_test = knn.predict(X_test)"
   ]
  },
  {
   "cell_type": "markdown",
   "id": "47609212",
   "metadata": {},
   "source": [
    "##### Оценка точности модели"
   ]
  },
  {
   "cell_type": "code",
   "execution_count": 15,
   "id": "600c4408",
   "metadata": {},
   "outputs": [
    {
     "name": "stdout",
     "output_type": "stream",
     "text": [
      "{'ACC train': 0.99, 'ACC test': 0.97}\n"
     ]
    }
   ],
   "source": [
    "# Обучающая выборка\n",
    "acc_train = accuracy_score(y_train, y_pred_train)\n",
    "\n",
    "# Тестовая выборка\n",
    "acc_test = accuracy_score(y_test, y_pred_test)\n",
    "\n",
    "print({'ACC train': round(acc_train, 2),\n",
    "      'ACC test': round(acc_test, 2)})"
   ]
  },
  {
   "cell_type": "markdown",
   "id": "cabad2d1",
   "metadata": {},
   "source": [
    "##### Кросс-валидация"
   ]
  },
  {
   "cell_type": "code",
   "execution_count": 16,
   "id": "59a3188f",
   "metadata": {},
   "outputs": [],
   "source": [
    "# Количество ближайших соседей\n",
    "param_grid = {'n_neighbors': range(2, 11)}"
   ]
  },
  {
   "cell_type": "code",
   "execution_count": 17,
   "id": "7a7877f1",
   "metadata": {},
   "outputs": [
    {
     "data": {
      "text/plain": [
       "GridSearchCV(cv=5, estimator=KNeighborsClassifier(n_neighbors=3),\n",
       "             param_grid={'n_neighbors': range(2, 11)}, scoring='accuracy')"
      ]
     },
     "execution_count": 17,
     "metadata": {},
     "output_type": "execute_result"
    }
   ],
   "source": [
    "grid_search = GridSearchCV(knn, param_grid, cv=5, scoring='accuracy')\n",
    "grid_search.fit(X_train, y_train)"
   ]
  },
  {
   "cell_type": "code",
   "execution_count": 18,
   "id": "1e36e9eb",
   "metadata": {},
   "outputs": [
    {
     "name": "stdout",
     "output_type": "stream",
     "text": [
      "Лучшее число соседей: 3\n",
      "Лучшее качество (accuracy): 0.9806818181818182\n"
     ]
    }
   ],
   "source": [
    "print(\"Лучшее число соседей:\", grid_search.best_params_['n_neighbors'])\n",
    "print(\"Лучшее качество (accuracy):\", grid_search.best_score_)"
   ]
  },
  {
   "cell_type": "markdown",
   "id": "652a6a98",
   "metadata": {},
   "source": [
    "### Логистическая регрессия"
   ]
  },
  {
   "cell_type": "code",
   "execution_count": 19,
   "id": "6aa12e3e",
   "metadata": {},
   "outputs": [
    {
     "data": {
      "text/plain": [
       "LogisticRegression()"
      ]
     },
     "execution_count": 19,
     "metadata": {},
     "output_type": "execute_result"
    }
   ],
   "source": [
    "# Обучение модели\n",
    "model = LogisticRegression()\n",
    "model.fit(X_train, y_train)"
   ]
  },
  {
   "cell_type": "markdown",
   "id": "67b11b7e",
   "metadata": {},
   "source": [
    "##### Построение прогноза"
   ]
  },
  {
   "cell_type": "code",
   "execution_count": 20,
   "id": "0168d882",
   "metadata": {},
   "outputs": [],
   "source": [
    "# Обучающая выборка\n",
    "y_pred_train = model.predict(X_train)\n",
    "\n",
    "# Тестовая выборка\n",
    "y_pred_test = model.predict(X_test)"
   ]
  },
  {
   "cell_type": "markdown",
   "id": "8fccc1c5",
   "metadata": {},
   "source": [
    "##### Оценка точности модели"
   ]
  },
  {
   "cell_type": "code",
   "execution_count": 21,
   "id": "65832e8e",
   "metadata": {},
   "outputs": [
    {
     "name": "stdout",
     "output_type": "stream",
     "text": [
      "{'ACC train': 0.98, 'ACC test': 0.96}\n"
     ]
    }
   ],
   "source": [
    "# Обучающая выборка\n",
    "acc_train = accuracy_score(y_train, y_pred_train)\n",
    "\n",
    "# Тестовая выборка\n",
    "acc_test = accuracy_score(y_test, y_pred_test)\n",
    "\n",
    "print({'ACC train': round(acc_train, 2),\n",
    "      'ACC test': round(acc_test, 2)})"
   ]
  },
  {
   "cell_type": "markdown",
   "id": "5395b5e4",
   "metadata": {},
   "source": [
    "##### Кросс-валидация"
   ]
  },
  {
   "cell_type": "code",
   "execution_count": 22,
   "id": "330ac3a8",
   "metadata": {},
   "outputs": [
    {
     "name": "stdout",
     "output_type": "stream",
     "text": [
      "Лучшее значение C: 6.352631578947369\n"
     ]
    }
   ],
   "source": [
    "param_grid = {'C': np.linspace(0.1, 10, 20)}\n",
    "\n",
    "grid_search = GridSearchCV(model, param_grid, cv = 5, scoring='accuracy') # cv - кол-во фолдов в кросс-валидации, scoring - метрика для оценки\n",
    "grid_search.fit(X_train, y_train)\n",
    "\n",
    "best_logreg = grid_search.best_estimator_\n",
    "print(\"Лучшее значение C:\", grid_search.best_params_['C'])"
   ]
  },
  {
   "cell_type": "code",
   "execution_count": 23,
   "id": "269fea05",
   "metadata": {},
   "outputs": [
    {
     "data": {
      "text/plain": [
       "LogisticRegression(C=6.352631578947369)"
      ]
     },
     "execution_count": 23,
     "metadata": {},
     "output_type": "execute_result"
    }
   ],
   "source": [
    "# Обучение модели\n",
    "best_model = LogisticRegression(C = grid_search.best_params_['C'])\n",
    "best_model.fit(X_train, y_train)"
   ]
  },
  {
   "cell_type": "markdown",
   "id": "30048b7f",
   "metadata": {},
   "source": [
    "##### Построение прогноза"
   ]
  },
  {
   "cell_type": "code",
   "execution_count": 24,
   "id": "2df79088",
   "metadata": {},
   "outputs": [],
   "source": [
    "# Обучающая выборка\n",
    "y_pred_train = best_model.predict(X_train)\n",
    "\n",
    "# Тестовая выборка\n",
    "y_pred_test = best_model.predict(X_test)"
   ]
  },
  {
   "cell_type": "markdown",
   "id": "7704f960",
   "metadata": {},
   "source": [
    "##### Оценка точности модели"
   ]
  },
  {
   "cell_type": "code",
   "execution_count": 25,
   "id": "cbb9f85a",
   "metadata": {},
   "outputs": [
    {
     "name": "stdout",
     "output_type": "stream",
     "text": [
      "{'ACC train': 0.99, 'ACC test': 0.97}\n"
     ]
    }
   ],
   "source": [
    "# Обучающая выборка\n",
    "acc_train = accuracy_score(y_train, y_pred_train)\n",
    "\n",
    "# Тестовая выборка\n",
    "acc_test = accuracy_score(y_test, y_pred_test)\n",
    "\n",
    "print({'ACC train': round(acc_train, 2),\n",
    "      'ACC test': round(acc_test, 2)})"
   ]
  },
  {
   "cell_type": "markdown",
   "id": "2b240297",
   "metadata": {},
   "source": [
    "##### Оценка важности признаков"
   ]
  },
  {
   "cell_type": "markdown",
   "id": "c319dc47",
   "metadata": {},
   "source": [
    "**Важность признаков для логистической регрессии оценивается по абсолютным значениям коэффициентов модели**"
   ]
  },
  {
   "cell_type": "code",
   "execution_count": 26,
   "id": "b96eb689",
   "metadata": {},
   "outputs": [],
   "source": [
    "coef = best_model.coef_[0]\n",
    "feature_names = df.drop('label', axis=1).columns\n",
    "\n",
    "feature_importance = pd.DataFrame({\n",
    "    'feature': feature_names,\n",
    "    'importance': np.abs(coef)\n",
    "})\n",
    "\n",
    "feature_importance = feature_importance.sort_values(by='importance', ascending=False)"
   ]
  },
  {
   "cell_type": "code",
   "execution_count": 27,
   "id": "ec760baf",
   "metadata": {},
   "outputs": [
    {
     "data": {
      "image/png": "[encoded data removed]",
      "text/plain": [
       "<Figure size 500x300 with 1 Axes>"
      ]
     },
     "metadata": {},
     "output_type": "display_data"
    }
   ],
   "source": [
    "plt.figure(figsize=(5, 3))\n",
    "plt.bar(feature_importance['feature'], feature_importance['importance'])\n",
    "plt.xticks(rotation = 45, ha='right')\n",
    "plt.xlabel('Признаки')\n",
    "plt.ylabel('Абсолютное значение коэффициента')\n",
    "plt.title('Важность признаков в логистической регрессии')\n",
    "plt.tight_layout()\n",
    "plt.show()"
   ]
  },
  {
   "cell_type": "markdown",
   "id": "aa9553ca",
   "metadata": {},
   "source": [
    "### Решающие деревья"
   ]
  },
  {
   "cell_type": "code",
   "execution_count": 28,
   "id": "16561dc1",
   "metadata": {},
   "outputs": [
    {
     "data": {
      "text/plain": [
       "DecisionTreeClassifier(criterion='entropy', max_depth=3)"
      ]
     },
     "execution_count": 28,
     "metadata": {},
     "output_type": "execute_result"
    }
   ],
   "source": [
    "dt = tree.DecisionTreeClassifier(max_depth = 3, criterion = 'entropy')\n",
    "dt.fit(X_train, y_train)"
   ]
  },
  {
   "cell_type": "code",
   "execution_count": 29,
   "id": "ae1dea50",
   "metadata": {},
   "outputs": [
    {
     "data": {
      "image/png": "[encoded data removed]",
      "text/plain": [
       "<Figure size 600x400 with 1 Axes>"
      ]
     },
     "metadata": {},
     "output_type": "display_data"
    }
   ],
   "source": [
    "plt.figure(figsize=(6, 4))\n",
    "tree.plot_tree(dt, feature_names = feature_names, fontsize = 8)\n",
    "plt.show()"
   ]
  },
  {
   "cell_type": "markdown",
   "id": "1d794ee1",
   "metadata": {},
   "source": [
    "##### Построение прогноза"
   ]
  },
  {
   "cell_type": "code",
   "execution_count": 30,
   "id": "7301d2ee",
   "metadata": {},
   "outputs": [],
   "source": [
    "# Обучающая выборка\n",
    "y_pred_train = dt.predict(X_train)\n",
    "\n",
    "# Тестовая выборка\n",
    "y_pred_test = dt.predict(X_test)"
   ]
  },
  {
   "cell_type": "markdown",
   "id": "28c2a7ea",
   "metadata": {},
   "source": [
    "##### Оценка точности модели"
   ]
  },
  {
   "cell_type": "code",
   "execution_count": 31,
   "id": "d551bf63",
   "metadata": {},
   "outputs": [
    {
     "name": "stdout",
     "output_type": "stream",
     "text": [
      "{'ACC train': 0.38, 'ACC test': 0.3}\n"
     ]
    }
   ],
   "source": [
    "# Обучающая выборка\n",
    "acc_train = accuracy_score(y_train, y_pred_train)\n",
    "\n",
    "# Тестовая выборка\n",
    "acc_test = accuracy_score(y_test, y_pred_test)\n",
    "\n",
    "print({'ACC train': round(acc_train, 2),\n",
    "      'ACC test': round(acc_test, 2)})"
   ]
  },
  {
   "cell_type": "markdown",
   "id": "4de53137",
   "metadata": {},
   "source": [
    "##### Кросс-валидация"
   ]
  },
  {
   "cell_type": "code",
   "execution_count": 32,
   "id": "4eaeba8f",
   "metadata": {},
   "outputs": [
    {
     "data": {
      "text/plain": [
       "{'max_depth': 17}"
      ]
     },
     "execution_count": 32,
     "metadata": {},
     "output_type": "execute_result"
    }
   ],
   "source": [
    "hyperparameters = {'max_depth': range(0, 20)}\n",
    "\n",
    "GSCV_dt = GridSearchCV(estimator  = dt,                \n",
    "                       param_grid = hyperparameters,   \n",
    "                       scoring    = \"accuracy\",        \n",
    "                       cv         = 5)                 \n",
    "GSCV_dt.fit(X_train, y_train)              \n",
    "                                                       \n",
    "hyperparameters_best = GSCV_dt.best_params_\n",
    "hyperparameters_best"
   ]
  },
  {
   "cell_type": "code",
   "execution_count": 33,
   "id": "1a588953",
   "metadata": {},
   "outputs": [
    {
     "data": {
      "text/plain": [
       "DecisionTreeClassifier(criterion='entropy', max_depth=17)"
      ]
     },
     "execution_count": 33,
     "metadata": {},
     "output_type": "execute_result"
    }
   ],
   "source": [
    "dt_best = tree.DecisionTreeClassifier(max_depth = hyperparameters_best[\"max_depth\"],\n",
    "                                  criterion = 'entropy')\n",
    "dt_best.fit(X_train, y_train)"
   ]
  },
  {
   "cell_type": "markdown",
   "id": "7b385a3b",
   "metadata": {},
   "source": [
    "##### Построение прогноза"
   ]
  },
  {
   "cell_type": "code",
   "execution_count": 34,
   "id": "b78af18d",
   "metadata": {},
   "outputs": [],
   "source": [
    "# Обучающая выборка\n",
    "y_pred_train = dt_best.predict(X_train)\n",
    "\n",
    "# Тестовая выборка\n",
    "y_pred_test = dt_best.predict(X_test)"
   ]
  },
  {
   "cell_type": "markdown",
   "id": "62955f4a",
   "metadata": {},
   "source": [
    "##### Оценка точности модели"
   ]
  },
  {
   "cell_type": "code",
   "execution_count": 35,
   "id": "6a9d40b7",
   "metadata": {},
   "outputs": [
    {
     "name": "stdout",
     "output_type": "stream",
     "text": [
      "{'ACC train': 1.0, 'ACC test': 0.98}\n"
     ]
    }
   ],
   "source": [
    "# Обучающая выборка\n",
    "acc_train = accuracy_score(y_train, y_pred_train)\n",
    "\n",
    "# Тестовая выборка\n",
    "acc_test = accuracy_score(y_test, y_pred_test)\n",
    "\n",
    "print({'ACC train': round(acc_train, 2),\n",
    "      'ACC test': round(acc_test, 2)})"
   ]
  },
  {
   "cell_type": "markdown",
   "id": "f2e68c64",
   "metadata": {},
   "source": [
    "### Случайный лес"
   ]
  },
  {
   "cell_type": "code",
   "execution_count": 38,
   "id": "a773bb29",
   "metadata": {},
   "outputs": [
    {
     "data": {
      "text/plain": [
       "RandomForestClassifier(criterion='entropy', max_depth=3, max_features='sqrt',\n",
       "                       max_samples=500, random_state=42)"
      ]
     },
     "execution_count": 38,
     "metadata": {},
     "output_type": "execute_result"
    }
   ],
   "source": [
    "rf = RandomForestClassifier(max_depth    = 3,         \n",
    "                            max_features = \"sqrt\",     \n",
    "                                                       \n",
    "                            max_samples  = 500,        \n",
    "                            random_state = 42,        \n",
    "                            criterion    = 'entropy')  \n",
    "                                                       \n",
    "rf.fit(X_train, y_train)"
   ]
  },
  {
   "cell_type": "markdown",
   "id": "d53a1e42",
   "metadata": {},
   "source": [
    "##### Построение прогноза"
   ]
  },
  {
   "cell_type": "code",
   "execution_count": 39,
   "id": "48b6a3b6",
   "metadata": {},
   "outputs": [],
   "source": [
    "# Обучающая выборка\n",
    "y_pred_train = rf.predict(X_train)\n",
    "\n",
    "# Тестовая выборка\n",
    "y_pred_test = rf.predict(X_test)"
   ]
  },
  {
   "cell_type": "markdown",
   "id": "db19eac8",
   "metadata": {},
   "source": [
    "##### Оценка качества модели"
   ]
  },
  {
   "cell_type": "code",
   "execution_count": 40,
   "id": "de6b4c15",
   "metadata": {},
   "outputs": [
    {
     "name": "stdout",
     "output_type": "stream",
     "text": [
      "{'ACC train': 0.93, 'ACC test': 0.94}\n"
     ]
    }
   ],
   "source": [
    "# Обучающая выборка\n",
    "acc_train = accuracy_score(y_train, y_pred_train)\n",
    "\n",
    "# Тестовая выборка\n",
    "acc_test = accuracy_score(y_test, y_pred_test)\n",
    "\n",
    "print({'ACC train': round(acc_train, 2),\n",
    "      'ACC test': round(acc_test, 2)})"
   ]
  },
  {
   "cell_type": "markdown",
   "id": "76498428",
   "metadata": {},
   "source": [
    "##### Кросс-валидация"
   ]
  },
  {
   "cell_type": "code",
   "execution_count": 41,
   "id": "74fd052f",
   "metadata": {},
   "outputs": [
    {
     "name": "stdout",
     "output_type": "stream",
     "text": [
      "Best parameters: {'max_depth': 17, 'n_estimators': 50}\n",
      "Best CV score: 0.996590909090909\n"
     ]
    }
   ],
   "source": [
    "model = RandomForestClassifier()\n",
    "\n",
    "param_grid = {\n",
    "    'n_estimators': [50, 100, 200],\n",
    "    'max_depth': range(0, 20)\n",
    "}\n",
    "\n",
    "grid_search = GridSearchCV(model, param_grid, cv = 5, scoring='accuracy')\n",
    "grid_search.fit(X_train, y_train)\n",
    "\n",
    "print(\"Best parameters:\", grid_search.best_params_)\n",
    "print(\"Best CV score:\", grid_search.best_score_)"
   ]
  },
  {
   "cell_type": "code",
   "execution_count": 43,
   "id": "14a324ef",
   "metadata": {},
   "outputs": [
    {
     "data": {
      "text/plain": [
       "RandomForestClassifier(criterion='entropy', max_depth=17, max_features='sqrt',\n",
       "                       max_samples=500, n_estimators=50, random_state=42)"
      ]
     },
     "execution_count": 43,
     "metadata": {},
     "output_type": "execute_result"
    }
   ],
   "source": [
    "rf_best = RandomForestClassifier(max_depth    = 17,         \n",
    "                            max_features = \"sqrt\",     \n",
    "                            n_estimators = 50,                         \n",
    "                            max_samples  = 500,        \n",
    "                            random_state = 42,        \n",
    "                            criterion    = 'entropy')  \n",
    "                                                       \n",
    "rf_best.fit(X_train, y_train)"
   ]
  },
  {
   "cell_type": "markdown",
   "id": "5e3f6e6d",
   "metadata": {},
   "source": [
    "##### Построение прогноза"
   ]
  },
  {
   "cell_type": "code",
   "execution_count": 44,
   "id": "13adcd3e",
   "metadata": {},
   "outputs": [],
   "source": [
    "# Обучающая выборка\n",
    "y_pred_train = rf_best.predict(X_train)\n",
    "\n",
    "# Тестовая выборка\n",
    "y_pred_test = rf_best.predict(X_test)"
   ]
  },
  {
   "cell_type": "markdown",
   "id": "9fd0d557",
   "metadata": {},
   "source": [
    "##### Оценка качества модели"
   ]
  },
  {
   "cell_type": "code",
   "execution_count": 45,
   "id": "1271b2ed",
   "metadata": {},
   "outputs": [
    {
     "name": "stdout",
     "output_type": "stream",
     "text": [
      "{'ACC train': 1.0, 'ACC test': 0.99}\n"
     ]
    }
   ],
   "source": [
    "# Обучающая выборка\n",
    "acc_train = accuracy_score(y_train, y_pred_train)\n",
    "\n",
    "# Тестовая выборка\n",
    "acc_test = accuracy_score(y_test, y_pred_test)\n",
    "\n",
    "print({'ACC train': round(acc_train, 2),\n",
    "      'ACC test': round(acc_test, 2)})"
   ]
  },
  {
   "cell_type": "markdown",
   "id": "39d4038e",
   "metadata": {},
   "source": [
    "### OOB"
   ]
  },
  {
   "cell_type": "markdown",
   "id": "c2bd5bbb",
   "metadata": {},
   "source": [
    "**Ошибка неотобранных элементов**"
   ]
  },
  {
   "cell_type": "markdown",
   "id": "6e777184",
   "metadata": {},
   "source": [
    "Для каждого наблюдения строится прогноз с использованием лишь тех моделей ансамбля, которые не использовали это наблюдение для обучения. Затем считается средняя ошибка прогноза этих наблюдений."
   ]
  },
  {
   "cell_type": "code",
   "execution_count": 47,
   "id": "5426a470",
   "metadata": {},
   "outputs": [
    {
     "data": {
      "text/plain": [
       "0.005113636363636376"
      ]
     },
     "execution_count": 47,
     "metadata": {},
     "output_type": "execute_result"
    }
   ],
   "source": [
    "rf = RandomForestClassifier()\n",
    "\n",
    "rf.oob_score = True                         \n",
    "rf.fit(X_train, y_train)        \n",
    "oob_rf = 1 - rf.oob_score_ \n",
    "oob_rf"
   ]
  },
  {
   "cell_type": "code",
   "execution_count": 53,
   "id": "03689451",
   "metadata": {},
   "outputs": [
    {
     "data": {
      "text/plain": [
       "0.004545454545454519"
      ]
     },
     "execution_count": 53,
     "metadata": {},
     "output_type": "execute_result"
    }
   ],
   "source": [
    "rf_2 = RandomForestClassifier()\n",
    "rf_2.oob_score = True \n",
    "rf_2.max_features = 3                        \n",
    "                                            \n",
    "rf_2.fit(X_train, y_train)       \n",
    "oob_rf_2 = 1 - rf_2.oob_score_ \n",
    "oob_rf_2"
   ]
  },
  {
   "cell_type": "code",
   "execution_count": 57,
   "id": "84674827",
   "metadata": {},
   "outputs": [
    {
     "data": {
      "text/plain": [
       "0.009659090909090895"
      ]
     },
     "execution_count": 57,
     "metadata": {},
     "output_type": "execute_result"
    }
   ],
   "source": [
    "rf_best = RandomForestClassifier(max_depth    = 17,\n",
    "                            oob_score=True,      \n",
    "                            max_features = \"sqrt\",     \n",
    "                            n_estimators = 50,                         \n",
    "                            max_samples  = 500,        \n",
    "                            random_state = 42,        \n",
    "                            criterion    = 'entropy')  \n",
    "                                                       \n",
    "rf_best.fit(X_train, y_train)\n",
    "                                                                         \n",
    "oob_rf_best = 1 - rf_best.oob_score_ \n",
    "oob_rf_best"
   ]
  },
  {
   "cell_type": "code",
   "execution_count": null,
   "id": "8d46053f",
   "metadata": {},
   "outputs": [],
   "source": []
  }
 ],
 "metadata": {
  "kernelspec": {
   "display_name": "Python 3 (ipykernel)",
   "language": "python",
   "name": "python3"
  },
  "language_info": {
   "codemirror_mode": {
    "name": "ipython",
    "version": 3
   },
   "file_extension": ".py",
   "mimetype": "text/x-python",
   "name": "python",
   "nbconvert_exporter": "python",
   "pygments_lexer": "ipython3",
   "version": "3.9.13"
  }
 },
 "nbformat": 4,
 "nbformat_minor": 5
}
