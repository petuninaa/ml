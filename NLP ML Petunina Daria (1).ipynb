{
 "cells": [
  {
   "cell_type": "markdown",
   "id": "a87343c4",
   "metadata": {},
   "source": [
    "##### Импортируем необходимые библиотеки"
   ]
  },
  {
   "cell_type": "code",
   "execution_count": 119,
   "id": "9c97a8f2",
   "metadata": {},
   "outputs": [],
   "source": [
    "import torch\n",
    "import transformers as ppb\n",
    "import requests\n",
    "import pandas as pd\n",
    "import numpy as np\n",
    "import zipfile\n",
    "import io\n",
    "from requests.auth import HTTPBasicAuth\n",
    "from gensim.models import Word2Vec\n",
    "import gensim.downloader\n",
    "from sklearn.model_selection import train_test_split\n",
    "from sklearn.model_selection import train_test_split\n",
    "from sklearn.linear_model import LogisticRegression\n",
    "from sklearn.model_selection import GridSearchCV\n",
    "from sklearn.model_selection import cross_val_score\n",
    "from sklearn.feature_extraction.text import TfidfVectorizer\n",
    "from sklearn.model_selection import GridSearchCV\n",
    "from sklearn.metrics import accuracy_score\n",
    "from transformers import AutoTokenizer\n",
    "from sklearn.pipeline import Pipeline\n",
    "import warnings\n",
    "warnings.filterwarnings('ignore')"
   ]
  },
  {
   "cell_type": "markdown",
   "id": "1bdd1087",
   "metadata": {},
   "source": [
    "##### Делаем запрос на Kaggle"
   ]
  },
  {
   "cell_type": "code",
   "execution_count": 2,
   "id": "7ecaac91",
   "metadata": {},
   "outputs": [],
   "source": [
    "username = 'dariapetunina'\n",
    "key = '76e3b0577a670c4404d4f509635a6a3f'"
   ]
  },
  {
   "cell_type": "code",
   "execution_count": 3,
   "id": "5c1d6efc",
   "metadata": {},
   "outputs": [],
   "source": [
    "url = 'https://www.kaggle.com/api/v1/datasets/download/razanaqvi14/real-and-fake-news'"
   ]
  },
  {
   "cell_type": "code",
   "execution_count": 4,
   "id": "565c264f",
   "metadata": {},
   "outputs": [
    {
     "data": {
      "text/plain": [
       "<Response [200]>"
      ]
     },
     "execution_count": 4,
     "metadata": {},
     "output_type": "execute_result"
    }
   ],
   "source": [
    "response = requests.get(url, auth=HTTPBasicAuth(username, key))\n",
    "response"
   ]
  },
  {
   "cell_type": "markdown",
   "id": "b85ca52f",
   "metadata": {},
   "source": [
    "##### Работа с архивом"
   ]
  },
  {
   "cell_type": "code",
   "execution_count": 5,
   "id": "0c8014f6",
   "metadata": {},
   "outputs": [
    {
     "name": "stdout",
     "output_type": "stream",
     "text": [
      "['Fake.csv', 'True.csv']\n"
     ]
    }
   ],
   "source": [
    "with zipfile.ZipFile(io.BytesIO(response.content)) as z:\n",
    "    print(z.namelist())"
   ]
  },
  {
   "cell_type": "code",
   "execution_count": 6,
   "id": "e5e56b24",
   "metadata": {},
   "outputs": [],
   "source": [
    "csv_fake = z.namelist()[0]\n",
    "csv_true = z.namelist()[1]"
   ]
  },
  {
   "cell_type": "code",
   "execution_count": 7,
   "id": "822eea42",
   "metadata": {},
   "outputs": [],
   "source": [
    "with zipfile.ZipFile(io.BytesIO(response.content)) as z:\n",
    "    with z.open(csv_fake) as f:\n",
    "        df_fake = pd.read_csv(f, header=0)"
   ]
  },
  {
   "cell_type": "code",
   "execution_count": 8,
   "id": "aa570bff",
   "metadata": {},
   "outputs": [],
   "source": [
    "with zipfile.ZipFile(io.BytesIO(response.content)) as z:\n",
    "    with z.open(csv_true) as f:\n",
    "        df_true = pd.read_csv(f, header=0)"
   ]
  },
  {
   "cell_type": "markdown",
   "id": "691ae9a7",
   "metadata": {},
   "source": [
    "##### Первичная работа с датафреймами"
   ]
  },
  {
   "cell_type": "code",
   "execution_count": 9,
   "id": "1b7a912f",
   "metadata": {},
   "outputs": [
    {
     "data": {
      "text/html": [
       "<div>\n",
       "<style scoped>\n",
       "    .dataframe tbody tr th:only-of-type {\n",
       "        vertical-align: middle;\n",
       "    }\n",
       "\n",
       "    .dataframe tbody tr th {\n",
       "        vertical-align: top;\n",
       "    }\n",
       "\n",
       "    .dataframe thead th {\n",
       "        text-align: right;\n",
       "    }\n",
       "</style>\n",
       "<table border=\"1\" class=\"dataframe\">\n",
       "  <thead>\n",
       "    <tr style=\"text-align: right;\">\n",
       "      <th></th>\n",
       "      <th>title</th>\n",
       "      <th>text</th>\n",
       "      <th>subject</th>\n",
       "      <th>date</th>\n",
       "    </tr>\n",
       "  </thead>\n",
       "  <tbody>\n",
       "    <tr>\n",
       "      <th>0</th>\n",
       "      <td>Donald Trump Sends Out Embarrassing New Year’...</td>\n",
       "      <td>Donald Trump just couldn t wish all Americans ...</td>\n",
       "      <td>News</td>\n",
       "      <td>December 31, 2017</td>\n",
       "    </tr>\n",
       "    <tr>\n",
       "      <th>1</th>\n",
       "      <td>Drunk Bragging Trump Staffer Started Russian ...</td>\n",
       "      <td>House Intelligence Committee Chairman Devin Nu...</td>\n",
       "      <td>News</td>\n",
       "      <td>December 31, 2017</td>\n",
       "    </tr>\n",
       "    <tr>\n",
       "      <th>2</th>\n",
       "      <td>Sheriff David Clarke Becomes An Internet Joke...</td>\n",
       "      <td>On Friday, it was revealed that former Milwauk...</td>\n",
       "      <td>News</td>\n",
       "      <td>December 30, 2017</td>\n",
       "    </tr>\n",
       "  </tbody>\n",
       "</table>\n",
       "</div>"
      ],
      "text/plain": [
       "                                               title  \\\n",
       "0   Donald Trump Sends Out Embarrassing New Year’...   \n",
       "1   Drunk Bragging Trump Staffer Started Russian ...   \n",
       "2   Sheriff David Clarke Becomes An Internet Joke...   \n",
       "\n",
       "                                                text subject  \\\n",
       "0  Donald Trump just couldn t wish all Americans ...    News   \n",
       "1  House Intelligence Committee Chairman Devin Nu...    News   \n",
       "2  On Friday, it was revealed that former Milwauk...    News   \n",
       "\n",
       "                date  \n",
       "0  December 31, 2017  \n",
       "1  December 31, 2017  \n",
       "2  December 30, 2017  "
      ]
     },
     "execution_count": 9,
     "metadata": {},
     "output_type": "execute_result"
    }
   ],
   "source": [
    "df_fake.head(3)"
   ]
  },
  {
   "cell_type": "code",
   "execution_count": 10,
   "id": "c65c5872",
   "metadata": {},
   "outputs": [
    {
     "data": {
      "text/plain": [
       "(23481, 4)"
      ]
     },
     "execution_count": 10,
     "metadata": {},
     "output_type": "execute_result"
    }
   ],
   "source": [
    "df_fake.shape"
   ]
  },
  {
   "cell_type": "code",
   "execution_count": 11,
   "id": "569a44ea",
   "metadata": {},
   "outputs": [
    {
     "data": {
      "text/html": [
       "<div>\n",
       "<style scoped>\n",
       "    .dataframe tbody tr th:only-of-type {\n",
       "        vertical-align: middle;\n",
       "    }\n",
       "\n",
       "    .dataframe tbody tr th {\n",
       "        vertical-align: top;\n",
       "    }\n",
       "\n",
       "    .dataframe thead th {\n",
       "        text-align: right;\n",
       "    }\n",
       "</style>\n",
       "<table border=\"1\" class=\"dataframe\">\n",
       "  <thead>\n",
       "    <tr style=\"text-align: right;\">\n",
       "      <th></th>\n",
       "      <th>title</th>\n",
       "      <th>text</th>\n",
       "      <th>subject</th>\n",
       "      <th>date</th>\n",
       "    </tr>\n",
       "  </thead>\n",
       "  <tbody>\n",
       "    <tr>\n",
       "      <th>0</th>\n",
       "      <td>As U.S. budget fight looms, Republicans flip t...</td>\n",
       "      <td>WASHINGTON (Reuters) - The head of a conservat...</td>\n",
       "      <td>politicsNews</td>\n",
       "      <td>December 31, 2017</td>\n",
       "    </tr>\n",
       "    <tr>\n",
       "      <th>1</th>\n",
       "      <td>U.S. military to accept transgender recruits o...</td>\n",
       "      <td>WASHINGTON (Reuters) - Transgender people will...</td>\n",
       "      <td>politicsNews</td>\n",
       "      <td>December 29, 2017</td>\n",
       "    </tr>\n",
       "    <tr>\n",
       "      <th>2</th>\n",
       "      <td>Senior U.S. Republican senator: 'Let Mr. Muell...</td>\n",
       "      <td>WASHINGTON (Reuters) - The special counsel inv...</td>\n",
       "      <td>politicsNews</td>\n",
       "      <td>December 31, 2017</td>\n",
       "    </tr>\n",
       "  </tbody>\n",
       "</table>\n",
       "</div>"
      ],
      "text/plain": [
       "                                               title  \\\n",
       "0  As U.S. budget fight looms, Republicans flip t...   \n",
       "1  U.S. military to accept transgender recruits o...   \n",
       "2  Senior U.S. Republican senator: 'Let Mr. Muell...   \n",
       "\n",
       "                                                text       subject  \\\n",
       "0  WASHINGTON (Reuters) - The head of a conservat...  politicsNews   \n",
       "1  WASHINGTON (Reuters) - Transgender people will...  politicsNews   \n",
       "2  WASHINGTON (Reuters) - The special counsel inv...  politicsNews   \n",
       "\n",
       "                 date  \n",
       "0  December 31, 2017   \n",
       "1  December 29, 2017   \n",
       "2  December 31, 2017   "
      ]
     },
     "execution_count": 11,
     "metadata": {},
     "output_type": "execute_result"
    }
   ],
   "source": [
    "df_true.head(3)"
   ]
  },
  {
   "cell_type": "code",
   "execution_count": 12,
   "id": "dc8a46e3",
   "metadata": {},
   "outputs": [
    {
     "data": {
      "text/plain": [
       "(21417, 4)"
      ]
     },
     "execution_count": 12,
     "metadata": {},
     "output_type": "execute_result"
    }
   ],
   "source": [
    "df_true.shape"
   ]
  },
  {
   "cell_type": "markdown",
   "id": "a86bc3ea",
   "metadata": {},
   "source": [
    "##### Кодирование датафреймов"
   ]
  },
  {
   "cell_type": "code",
   "execution_count": 13,
   "id": "63b2a613",
   "metadata": {},
   "outputs": [
    {
     "data": {
      "text/html": [
       "<div>\n",
       "<style scoped>\n",
       "    .dataframe tbody tr th:only-of-type {\n",
       "        vertical-align: middle;\n",
       "    }\n",
       "\n",
       "    .dataframe tbody tr th {\n",
       "        vertical-align: top;\n",
       "    }\n",
       "\n",
       "    .dataframe thead th {\n",
       "        text-align: right;\n",
       "    }\n",
       "</style>\n",
       "<table border=\"1\" class=\"dataframe\">\n",
       "  <thead>\n",
       "    <tr style=\"text-align: right;\">\n",
       "      <th></th>\n",
       "      <th>title</th>\n",
       "      <th>text</th>\n",
       "      <th>subject</th>\n",
       "      <th>date</th>\n",
       "      <th>flag</th>\n",
       "    </tr>\n",
       "  </thead>\n",
       "  <tbody>\n",
       "    <tr>\n",
       "      <th>0</th>\n",
       "      <td>Donald Trump Sends Out Embarrassing New Year’...</td>\n",
       "      <td>Donald Trump just couldn t wish all Americans ...</td>\n",
       "      <td>News</td>\n",
       "      <td>December 31, 2017</td>\n",
       "      <td>0</td>\n",
       "    </tr>\n",
       "    <tr>\n",
       "      <th>1</th>\n",
       "      <td>Drunk Bragging Trump Staffer Started Russian ...</td>\n",
       "      <td>House Intelligence Committee Chairman Devin Nu...</td>\n",
       "      <td>News</td>\n",
       "      <td>December 31, 2017</td>\n",
       "      <td>0</td>\n",
       "    </tr>\n",
       "    <tr>\n",
       "      <th>2</th>\n",
       "      <td>Sheriff David Clarke Becomes An Internet Joke...</td>\n",
       "      <td>On Friday, it was revealed that former Milwauk...</td>\n",
       "      <td>News</td>\n",
       "      <td>December 30, 2017</td>\n",
       "      <td>0</td>\n",
       "    </tr>\n",
       "  </tbody>\n",
       "</table>\n",
       "</div>"
      ],
      "text/plain": [
       "                                               title  \\\n",
       "0   Donald Trump Sends Out Embarrassing New Year’...   \n",
       "1   Drunk Bragging Trump Staffer Started Russian ...   \n",
       "2   Sheriff David Clarke Becomes An Internet Joke...   \n",
       "\n",
       "                                                text subject  \\\n",
       "0  Donald Trump just couldn t wish all Americans ...    News   \n",
       "1  House Intelligence Committee Chairman Devin Nu...    News   \n",
       "2  On Friday, it was revealed that former Milwauk...    News   \n",
       "\n",
       "                date  flag  \n",
       "0  December 31, 2017     0  \n",
       "1  December 31, 2017     0  \n",
       "2  December 30, 2017     0  "
      ]
     },
     "execution_count": 13,
     "metadata": {},
     "output_type": "execute_result"
    }
   ],
   "source": [
    "df_fake['flag'] = 0\n",
    "df_fake.head(3)"
   ]
  },
  {
   "cell_type": "code",
   "execution_count": 14,
   "id": "fa2cce35",
   "metadata": {},
   "outputs": [
    {
     "data": {
      "text/html": [
       "<div>\n",
       "<style scoped>\n",
       "    .dataframe tbody tr th:only-of-type {\n",
       "        vertical-align: middle;\n",
       "    }\n",
       "\n",
       "    .dataframe tbody tr th {\n",
       "        vertical-align: top;\n",
       "    }\n",
       "\n",
       "    .dataframe thead th {\n",
       "        text-align: right;\n",
       "    }\n",
       "</style>\n",
       "<table border=\"1\" class=\"dataframe\">\n",
       "  <thead>\n",
       "    <tr style=\"text-align: right;\">\n",
       "      <th></th>\n",
       "      <th>title</th>\n",
       "      <th>text</th>\n",
       "      <th>subject</th>\n",
       "      <th>date</th>\n",
       "      <th>flag</th>\n",
       "    </tr>\n",
       "  </thead>\n",
       "  <tbody>\n",
       "    <tr>\n",
       "      <th>0</th>\n",
       "      <td>As U.S. budget fight looms, Republicans flip t...</td>\n",
       "      <td>WASHINGTON (Reuters) - The head of a conservat...</td>\n",
       "      <td>politicsNews</td>\n",
       "      <td>December 31, 2017</td>\n",
       "      <td>1</td>\n",
       "    </tr>\n",
       "    <tr>\n",
       "      <th>1</th>\n",
       "      <td>U.S. military to accept transgender recruits o...</td>\n",
       "      <td>WASHINGTON (Reuters) - Transgender people will...</td>\n",
       "      <td>politicsNews</td>\n",
       "      <td>December 29, 2017</td>\n",
       "      <td>1</td>\n",
       "    </tr>\n",
       "    <tr>\n",
       "      <th>2</th>\n",
       "      <td>Senior U.S. Republican senator: 'Let Mr. Muell...</td>\n",
       "      <td>WASHINGTON (Reuters) - The special counsel inv...</td>\n",
       "      <td>politicsNews</td>\n",
       "      <td>December 31, 2017</td>\n",
       "      <td>1</td>\n",
       "    </tr>\n",
       "  </tbody>\n",
       "</table>\n",
       "</div>"
      ],
      "text/plain": [
       "                                               title  \\\n",
       "0  As U.S. budget fight looms, Republicans flip t...   \n",
       "1  U.S. military to accept transgender recruits o...   \n",
       "2  Senior U.S. Republican senator: 'Let Mr. Muell...   \n",
       "\n",
       "                                                text       subject  \\\n",
       "0  WASHINGTON (Reuters) - The head of a conservat...  politicsNews   \n",
       "1  WASHINGTON (Reuters) - Transgender people will...  politicsNews   \n",
       "2  WASHINGTON (Reuters) - The special counsel inv...  politicsNews   \n",
       "\n",
       "                 date  flag  \n",
       "0  December 31, 2017      1  \n",
       "1  December 29, 2017      1  \n",
       "2  December 31, 2017      1  "
      ]
     },
     "execution_count": 14,
     "metadata": {},
     "output_type": "execute_result"
    }
   ],
   "source": [
    "df_true['flag'] = 1\n",
    "df_true.head(3)"
   ]
  },
  {
   "cell_type": "markdown",
   "id": "555dde02",
   "metadata": {},
   "source": [
    "##### Объединение датафреймов"
   ]
  },
  {
   "cell_type": "code",
   "execution_count": 15,
   "id": "55ae2174",
   "metadata": {},
   "outputs": [
    {
     "data": {
      "text/html": [
       "<div>\n",
       "<style scoped>\n",
       "    .dataframe tbody tr th:only-of-type {\n",
       "        vertical-align: middle;\n",
       "    }\n",
       "\n",
       "    .dataframe tbody tr th {\n",
       "        vertical-align: top;\n",
       "    }\n",
       "\n",
       "    .dataframe thead th {\n",
       "        text-align: right;\n",
       "    }\n",
       "</style>\n",
       "<table border=\"1\" class=\"dataframe\">\n",
       "  <thead>\n",
       "    <tr style=\"text-align: right;\">\n",
       "      <th></th>\n",
       "      <th>title</th>\n",
       "      <th>text</th>\n",
       "      <th>subject</th>\n",
       "      <th>date</th>\n",
       "      <th>flag</th>\n",
       "    </tr>\n",
       "  </thead>\n",
       "  <tbody>\n",
       "    <tr>\n",
       "      <th>0</th>\n",
       "      <td>As U.S. budget fight looms, Republicans flip t...</td>\n",
       "      <td>WASHINGTON (Reuters) - The head of a conservat...</td>\n",
       "      <td>politicsNews</td>\n",
       "      <td>December 31, 2017</td>\n",
       "      <td>1</td>\n",
       "    </tr>\n",
       "    <tr>\n",
       "      <th>1</th>\n",
       "      <td>U.S. military to accept transgender recruits o...</td>\n",
       "      <td>WASHINGTON (Reuters) - Transgender people will...</td>\n",
       "      <td>politicsNews</td>\n",
       "      <td>December 29, 2017</td>\n",
       "      <td>1</td>\n",
       "    </tr>\n",
       "    <tr>\n",
       "      <th>2</th>\n",
       "      <td>Senior U.S. Republican senator: 'Let Mr. Muell...</td>\n",
       "      <td>WASHINGTON (Reuters) - The special counsel inv...</td>\n",
       "      <td>politicsNews</td>\n",
       "      <td>December 31, 2017</td>\n",
       "      <td>1</td>\n",
       "    </tr>\n",
       "  </tbody>\n",
       "</table>\n",
       "</div>"
      ],
      "text/plain": [
       "                                               title  \\\n",
       "0  As U.S. budget fight looms, Republicans flip t...   \n",
       "1  U.S. military to accept transgender recruits o...   \n",
       "2  Senior U.S. Republican senator: 'Let Mr. Muell...   \n",
       "\n",
       "                                                text       subject  \\\n",
       "0  WASHINGTON (Reuters) - The head of a conservat...  politicsNews   \n",
       "1  WASHINGTON (Reuters) - Transgender people will...  politicsNews   \n",
       "2  WASHINGTON (Reuters) - The special counsel inv...  politicsNews   \n",
       "\n",
       "                 date  flag  \n",
       "0  December 31, 2017      1  \n",
       "1  December 29, 2017      1  \n",
       "2  December 31, 2017      1  "
      ]
     },
     "execution_count": 15,
     "metadata": {},
     "output_type": "execute_result"
    }
   ],
   "source": [
    "df = pd.concat([df_true, df_fake], axis=0, ignore_index=True)\n",
    "df.head(3)"
   ]
  },
  {
   "cell_type": "code",
   "execution_count": 16,
   "id": "9c0307ba",
   "metadata": {},
   "outputs": [
    {
     "data": {
      "text/plain": [
       "(44898, 5)"
      ]
     },
     "execution_count": 16,
     "metadata": {},
     "output_type": "execute_result"
    }
   ],
   "source": [
    "df.shape"
   ]
  },
  {
   "cell_type": "markdown",
   "id": "14e3dd96",
   "metadata": {},
   "source": [
    "##### Первичная обработка данных"
   ]
  },
  {
   "cell_type": "code",
   "execution_count": 17,
   "id": "1d7ed5f2",
   "metadata": {},
   "outputs": [
    {
     "name": "stdout",
     "output_type": "stream",
     "text": [
      "<class 'pandas.core.frame.DataFrame'>\n",
      "RangeIndex: 44898 entries, 0 to 44897\n",
      "Data columns (total 5 columns):\n",
      " #   Column   Non-Null Count  Dtype \n",
      "---  ------   --------------  ----- \n",
      " 0   title    44898 non-null  object\n",
      " 1   text     44898 non-null  object\n",
      " 2   subject  44898 non-null  object\n",
      " 3   date     44898 non-null  object\n",
      " 4   flag     44898 non-null  int64 \n",
      "dtypes: int64(1), object(4)\n",
      "memory usage: 1.7+ MB\n"
     ]
    },
    {
     "data": {
      "text/plain": [
       "title      0\n",
       "text       0\n",
       "subject    0\n",
       "date       0\n",
       "flag       0\n",
       "dtype: int64"
      ]
     },
     "execution_count": 17,
     "metadata": {},
     "output_type": "execute_result"
    }
   ],
   "source": [
    "# Проверка типа данных и пропущенных значений\n",
    "df.info()\n",
    "df.isnull().sum()"
   ]
  },
  {
   "cell_type": "code",
   "execution_count": 18,
   "id": "41d6578b",
   "metadata": {},
   "outputs": [],
   "source": [
    "df['text'] = df['text'].astype(str)"
   ]
  },
  {
   "cell_type": "code",
   "execution_count": 19,
   "id": "0a6a91d3",
   "metadata": {},
   "outputs": [
    {
     "name": "stdout",
     "output_type": "stream",
     "text": [
      "<class 'pandas.core.frame.DataFrame'>\n",
      "RangeIndex: 44898 entries, 0 to 44897\n",
      "Data columns (total 5 columns):\n",
      " #   Column   Non-Null Count  Dtype \n",
      "---  ------   --------------  ----- \n",
      " 0   title    44898 non-null  object\n",
      " 1   text     44898 non-null  object\n",
      " 2   subject  44898 non-null  object\n",
      " 3   date     44898 non-null  object\n",
      " 4   flag     44898 non-null  int64 \n",
      "dtypes: int64(1), object(4)\n",
      "memory usage: 1.7+ MB\n"
     ]
    }
   ],
   "source": [
    "df.info()"
   ]
  },
  {
   "cell_type": "code",
   "execution_count": 20,
   "id": "538cdf2d",
   "metadata": {},
   "outputs": [
    {
     "name": "stdout",
     "output_type": "stream",
     "text": [
      "Количество дубликатов: 209\n"
     ]
    },
    {
     "data": {
      "text/plain": [
       "(44898, 5)"
      ]
     },
     "execution_count": 20,
     "metadata": {},
     "output_type": "execute_result"
    }
   ],
   "source": [
    "# Проверка дубликатов\n",
    "num_duplicates = df.duplicated().sum()\n",
    "print(f\"Количество дубликатов: {num_duplicates}\")\n",
    "df.shape"
   ]
  },
  {
   "cell_type": "code",
   "execution_count": 21,
   "id": "4342df60",
   "metadata": {},
   "outputs": [
    {
     "data": {
      "text/plain": [
       "(44689, 5)"
      ]
     },
     "execution_count": 21,
     "metadata": {},
     "output_type": "execute_result"
    }
   ],
   "source": [
    "df_unique = df.drop_duplicates()\n",
    "df_unique.shape"
   ]
  },
  {
   "cell_type": "markdown",
   "id": "1f1ff77c",
   "metadata": {},
   "source": [
    "##### Разделение на обучающую и тестовую выборки"
   ]
  },
  {
   "cell_type": "code",
   "execution_count": 22,
   "id": "5ea41179",
   "metadata": {},
   "outputs": [
    {
     "data": {
      "text/html": [
       "<div>\n",
       "<style scoped>\n",
       "    .dataframe tbody tr th:only-of-type {\n",
       "        vertical-align: middle;\n",
       "    }\n",
       "\n",
       "    .dataframe tbody tr th {\n",
       "        vertical-align: top;\n",
       "    }\n",
       "\n",
       "    .dataframe thead th {\n",
       "        text-align: right;\n",
       "    }\n",
       "</style>\n",
       "<table border=\"1\" class=\"dataframe\">\n",
       "  <thead>\n",
       "    <tr style=\"text-align: right;\">\n",
       "      <th></th>\n",
       "      <th>title</th>\n",
       "      <th>text</th>\n",
       "      <th>subject</th>\n",
       "      <th>date</th>\n",
       "      <th>flag</th>\n",
       "    </tr>\n",
       "  </thead>\n",
       "  <tbody>\n",
       "    <tr>\n",
       "      <th>0</th>\n",
       "      <td>As U.S. budget fight looms, Republicans flip t...</td>\n",
       "      <td>WASHINGTON (Reuters) - The head of a conservat...</td>\n",
       "      <td>politicsNews</td>\n",
       "      <td>December 31, 2017</td>\n",
       "      <td>1</td>\n",
       "    </tr>\n",
       "    <tr>\n",
       "      <th>1</th>\n",
       "      <td>U.S. military to accept transgender recruits o...</td>\n",
       "      <td>WASHINGTON (Reuters) - Transgender people will...</td>\n",
       "      <td>politicsNews</td>\n",
       "      <td>December 29, 2017</td>\n",
       "      <td>1</td>\n",
       "    </tr>\n",
       "    <tr>\n",
       "      <th>2</th>\n",
       "      <td>Senior U.S. Republican senator: 'Let Mr. Muell...</td>\n",
       "      <td>WASHINGTON (Reuters) - The special counsel inv...</td>\n",
       "      <td>politicsNews</td>\n",
       "      <td>December 31, 2017</td>\n",
       "      <td>1</td>\n",
       "    </tr>\n",
       "  </tbody>\n",
       "</table>\n",
       "</div>"
      ],
      "text/plain": [
       "                                               title  \\\n",
       "0  As U.S. budget fight looms, Republicans flip t...   \n",
       "1  U.S. military to accept transgender recruits o...   \n",
       "2  Senior U.S. Republican senator: 'Let Mr. Muell...   \n",
       "\n",
       "                                                text       subject  \\\n",
       "0  WASHINGTON (Reuters) - The head of a conservat...  politicsNews   \n",
       "1  WASHINGTON (Reuters) - Transgender people will...  politicsNews   \n",
       "2  WASHINGTON (Reuters) - The special counsel inv...  politicsNews   \n",
       "\n",
       "                 date  flag  \n",
       "0  December 31, 2017      1  \n",
       "1  December 29, 2017      1  \n",
       "2  December 31, 2017      1  "
      ]
     },
     "execution_count": 22,
     "metadata": {},
     "output_type": "execute_result"
    }
   ],
   "source": [
    "df_unique.head(3)"
   ]
  },
  {
   "cell_type": "code",
   "execution_count": 23,
   "id": "db224d7b",
   "metadata": {},
   "outputs": [
    {
     "data": {
      "text/plain": [
       "0    23478\n",
       "1    21211\n",
       "Name: flag, dtype: int64"
      ]
     },
     "execution_count": 23,
     "metadata": {},
     "output_type": "execute_result"
    }
   ],
   "source": [
    "# Баланс классов\n",
    "df_unique['flag'].value_counts()"
   ]
  },
  {
   "cell_type": "code",
   "execution_count": 24,
   "id": "ad842ea3",
   "metadata": {},
   "outputs": [],
   "source": [
    "X = df_unique['text']\n",
    "y = df_unique['flag']"
   ]
  },
  {
   "cell_type": "code",
   "execution_count": 25,
   "id": "ba763143",
   "metadata": {},
   "outputs": [
    {
     "name": "stdout",
     "output_type": "stream",
     "text": [
      "0        WASHINGTON (Reuters) - The head of a conservat...\n",
      "1        WASHINGTON (Reuters) - Transgender people will...\n",
      "2        WASHINGTON (Reuters) - The special counsel inv...\n",
      "3        WASHINGTON (Reuters) - Trump campaign adviser ...\n",
      "4        SEATTLE/WASHINGTON (Reuters) - President Donal...\n",
      "                               ...                        \n",
      "44893    21st Century Wire says As 21WIRE reported earl...\n",
      "44894    21st Century Wire says It s a familiar theme. ...\n",
      "44895    Patrick Henningsen  21st Century WireRemember ...\n",
      "44896    21st Century Wire says Al Jazeera America will...\n",
      "44897    21st Century Wire says As 21WIRE predicted in ...\n",
      "Name: text, Length: 44689, dtype: object\n"
     ]
    }
   ],
   "source": [
    "print(X)"
   ]
  },
  {
   "cell_type": "code",
   "execution_count": 26,
   "id": "167df5d4",
   "metadata": {},
   "outputs": [
    {
     "name": "stdout",
     "output_type": "stream",
     "text": [
      "0        1\n",
      "1        1\n",
      "2        1\n",
      "3        1\n",
      "4        1\n",
      "        ..\n",
      "44893    0\n",
      "44894    0\n",
      "44895    0\n",
      "44896    0\n",
      "44897    0\n",
      "Name: flag, Length: 44689, dtype: int64\n"
     ]
    }
   ],
   "source": [
    "print(y)"
   ]
  },
  {
   "cell_type": "code",
   "execution_count": 27,
   "id": "ae0b0857",
   "metadata": {},
   "outputs": [],
   "source": [
    "X_train, X_test, y_train, y_test = train_test_split(X, y, test_size=0.2, random_state=42)"
   ]
  },
  {
   "cell_type": "code",
   "execution_count": 28,
   "id": "20710877",
   "metadata": {},
   "outputs": [
    {
     "name": "stdout",
     "output_type": "stream",
     "text": [
      "(35751,) (8938,) (35751,) (8938,)\n"
     ]
    }
   ],
   "source": [
    "print(X_train.shape, X_test.shape, y_train.shape, y_test.shape)"
   ]
  },
  {
   "cell_type": "markdown",
   "id": "b45dda20",
   "metadata": {},
   "source": [
    "### Обучение моделей"
   ]
  },
  {
   "cell_type": "markdown",
   "id": "c750c2c8",
   "metadata": {},
   "source": [
    "* **Обучаем векторизатор текста на тренировочных данных**\n",
    "* **Строим прогноз и оцениваем качество модели на тренировочных и тестовых данных**"
   ]
  },
  {
   "cell_type": "markdown",
   "id": "36627345",
   "metadata": {},
   "source": [
    "#### TF-IDF"
   ]
  },
  {
   "cell_type": "markdown",
   "id": "ed1abeb4",
   "metadata": {},
   "source": [
    "**TF-IDF** (от англ. Term Frequency-Inverse Document Frequency) — это статистическая мера, которая оценивает важность слова в конкретном документе относительно всего корпуса документов. Вес слова растёт, если оно часто встречается в данном документе (TF — частота термина), и уменьшается, если оно часто встречается во многих документах корпуса (IDF — обратная частота документа)"
   ]
  },
  {
   "cell_type": "code",
   "execution_count": 29,
   "id": "63c9de25",
   "metadata": {},
   "outputs": [
    {
     "data": {
      "text/plain": [
       "TfidfVectorizer(stop_words='english')"
      ]
     },
     "execution_count": 29,
     "metadata": {},
     "output_type": "execute_result"
    }
   ],
   "source": [
    "# Обучаем модель на обучающей выборке\n",
    "tfidf = TfidfVectorizer(stop_words='english')\n",
    "tfidf.fit(X_train)"
   ]
  },
  {
   "cell_type": "code",
   "execution_count": 30,
   "id": "4bd6462f",
   "metadata": {},
   "outputs": [],
   "source": [
    "# Преобразуем текстовые значения из обучающей и тестовой выборок в числовые векторы\n",
    "Xtrain = tfidf.transform(X_train)\n",
    "Xtest = tfidf.transform(X_test)"
   ]
  },
  {
   "cell_type": "code",
   "execution_count": 31,
   "id": "a7b7ff61",
   "metadata": {},
   "outputs": [
    {
     "data": {
      "text/plain": [
       "((35751, 111249), (8938, 111249))"
      ]
     },
     "execution_count": 31,
     "metadata": {},
     "output_type": "execute_result"
    }
   ],
   "source": [
    "Xtrain.shape, Xtest.shape"
   ]
  },
  {
   "cell_type": "markdown",
   "id": "84e35d4f",
   "metadata": {},
   "source": [
    "* Очень много фичей: **есть вероятность переобучения**"
   ]
  },
  {
   "cell_type": "markdown",
   "id": "166b6903",
   "metadata": {},
   "source": [
    "##### Обучение логистической регрессии"
   ]
  },
  {
   "cell_type": "code",
   "execution_count": 32,
   "id": "5e700837",
   "metadata": {},
   "outputs": [
    {
     "data": {
      "text/plain": [
       "LogisticRegression()"
      ]
     },
     "execution_count": 32,
     "metadata": {},
     "output_type": "execute_result"
    }
   ],
   "source": [
    "# Обучаем на обучающей выборке\n",
    "lr_clf = LogisticRegression()\n",
    "lr_clf.fit(Xtrain, y_train)"
   ]
  },
  {
   "cell_type": "code",
   "execution_count": 33,
   "id": "d9067301",
   "metadata": {},
   "outputs": [],
   "source": [
    "# Строим предсказания с помощью фичей на обучающей и тестовой выборках\n",
    "lr_train_pred = lr_clf.predict(Xtrain)\n",
    "lr_test_pred = lr_clf.predict(Xtest)"
   ]
  },
  {
   "cell_type": "markdown",
   "id": "52775f8b",
   "metadata": {},
   "source": [
    "##### Оценка качества модели"
   ]
  },
  {
   "cell_type": "markdown",
   "id": "d5a441e6",
   "metadata": {},
   "source": [
    "**Accuracy (точность)** — это метрика, которая показывает долю правильных предсказаний модели относительно общего числа предсказаний. Она рассчитывается как отношение суммы верных положительных (True Positive, TP) и верных отрицательных (True Negative, TN) предсказаний к общему числу предсказаний"
   ]
  },
  {
   "cell_type": "code",
   "execution_count": 34,
   "id": "099e29d6",
   "metadata": {},
   "outputs": [
    {
     "data": {
      "text/plain": [
       "(0.9918603675421667, 0.9841127769075856)"
      ]
     },
     "execution_count": 34,
     "metadata": {},
     "output_type": "execute_result"
    }
   ],
   "source": [
    "accuracy_score(y_train, lr_train_pred), accuracy_score(y_test, lr_test_pred)"
   ]
  },
  {
   "cell_type": "markdown",
   "id": "49508c67",
   "metadata": {},
   "source": [
    "##### Подбор оптимальных параметров для токенайзера"
   ]
  },
  {
   "cell_type": "code",
   "execution_count": null,
   "id": "8a5ce80e",
   "metadata": {},
   "outputs": [],
   "source": [
    "# Создаем пайплайн\n",
    "#pipeline = Pipeline([\n",
    "    #('tfidf', TfidfVectorizer()),\n",
    "    #('lr_clf', LogisticRegression(max_iter=1000))\n",
    "#])\n",
    "\n",
    "# Задаем сетку параметром для перебора\n",
    "#param_grid = {\n",
    "    #'tfidf__min_df': [1, 2, 5],\n",
    "    #'tfidf__max_df': [0.7, 0.85, 1.0],\n",
    "    #'tfidf__ngram_range': [(1,1), (1,2), (1,3)] \n",
    "#}\n",
    "\n",
    "# Запускаем процесс кросс-валидации\n",
    "#grid_search = GridSearchCV(pipeline, param_grid, cv = 5, scoring='neg_mean_squared_error', n_jobs=-1)\n",
    "\n",
    "# Обучение\n",
    "#grid_search.fit(X_train, y_train)\n",
    "\n",
    "# Вытаскиваем наилучшие параметры\n",
    "#print(\"Лучшие параметры:\", grid_search.best_params_)"
   ]
  },
  {
   "cell_type": "markdown",
   "id": "e985c65e",
   "metadata": {},
   "source": [
    "### Word2Vec"
   ]
  },
  {
   "cell_type": "markdown",
   "id": "87f20bc9",
   "metadata": {},
   "source": [
    "**Word2vec** — это набор моделей на основе искусственных нейронных сетей, предназначенных для преобразования слов из текста в векторные представления, которые отражают их семантические и синтаксические отношения"
   ]
  },
  {
   "cell_type": "code",
   "execution_count": 94,
   "id": "abb4df3d",
   "metadata": {},
   "outputs": [],
   "source": [
    "X_train, X_test, y_train, y_test = train_test_split(X, y, test_size = 0.2, random_state = 42)"
   ]
  },
  {
   "cell_type": "code",
   "execution_count": 95,
   "id": "8cc2c0ec",
   "metadata": {},
   "outputs": [
    {
     "data": {
      "text/plain": [
       "(4234, 117210)"
      ]
     },
     "execution_count": 95,
     "metadata": {},
     "output_type": "execute_result"
    }
   ],
   "source": [
    "# Разбиваем строку на слова по пробелам\n",
    "sent = [row.split() for row in X_train[0]]\n",
    "\n",
    "# Размерность векторного представления (количество чисел в векторе)\n",
    "HIDDEN = 100\n",
    "\n",
    "model = Word2Vec(min_count = 20, # игнорируем слова, которые встречаются менее 20 раз\n",
    "                     window = 2, # смотрим на 2 слова справа и 2 слова слева \n",
    "                     vector_size = HIDDEN, # размерность вектора \n",
    "                     sample = 6e-5, # уменьшаем влияние очень частых слов\n",
    "                     alpha = 0.03, # начальная скорость обучения \n",
    "                     min_alpha = 0.0007, # мнинимальная скорость обучения \n",
    "                     negative = 20, # количество негативных примеров\n",
    "                     workers = 2) # количество потоков для параллельного обучения\n",
    "\n",
    "# Создаем словарь\n",
    "model.build_vocab(sent, progress_per=10000)\n",
    "\n",
    "# Обучение модели\n",
    "model.train(sent, total_examples = model.corpus_count, epochs = 30, report_delay = 1)"
   ]
  },
  {
   "cell_type": "code",
   "execution_count": 96,
   "id": "5a6681a1",
   "metadata": {},
   "outputs": [
    {
     "data": {
      "text/plain": [
       "(35751,)"
      ]
     },
     "execution_count": 96,
     "metadata": {},
     "output_type": "execute_result"
    }
   ],
   "source": [
    "X_train.shape"
   ]
  },
  {
   "cell_type": "markdown",
   "id": "8812f96f",
   "metadata": {},
   "source": [
    "* (количество **уникальных** слов, **общее** количество слов)"
   ]
  },
  {
   "cell_type": "markdown",
   "id": "9de54405",
   "metadata": {},
   "source": [
    "##### Рассчитаем средний вектор текста"
   ]
  },
  {
   "cell_type": "markdown",
   "id": "529be243",
   "metadata": {},
   "source": [
    "Текст может состоять из многих слов, каждое из которых имеет свой вектор. **Усреднение этих векторов даёт один фиксированной размерности вектор, который отражает общий смысл текста**"
   ]
  },
  {
   "cell_type": "code",
   "execution_count": 97,
   "id": "5fa231ee",
   "metadata": {},
   "outputs": [],
   "source": [
    "def get_mean_w2v_vector(sentence):\n",
    "    # Если вход — строка, разбиваем на слова\n",
    "    if isinstance(sentence, str):\n",
    "        words = sentence.split()\n",
    "    # Если вход — список или массив слов, используем как есть\n",
    "    elif isinstance(sentence, (list, tuple, np.ndarray)):\n",
    "        words = sentence\n",
    "    else:\n",
    "        words = []\n",
    "\n",
    "    Sum = 0\n",
    "    Count = 0\n",
    "\n",
    "    for w in words:\n",
    "        if w in model.wv:\n",
    "            Sum += model.wv[w]\n",
    "            Count += 1\n",
    "\n",
    "    if Count == 0:\n",
    "        return np.zeros(model.vector_size)  # Возвращаем нулевой вектор нужной размерности\n",
    "\n",
    "    return Sum / Count"
   ]
  },
  {
   "cell_type": "code",
   "execution_count": 98,
   "id": "2eeecf12",
   "metadata": {},
   "outputs": [],
   "source": [
    "# 1. Получаем Series векторов\n",
    "train_vectors = X_train.map(get_mean_w2v_vector)\n",
    "test_vectors = X_test.map(get_mean_w2v_vector)\n",
    "\n",
    "# 2. Преобразуем Series в DataFrame\n",
    "train_vec_df = pd.DataFrame(train_vectors.tolist(), columns=NewCols, index=X_train.index)\n",
    "test_vec_df = pd.DataFrame(test_vectors.tolist(), columns=NewCols, index=X_test.index)\n",
    "\n",
    "# 3. Объединяем с исходными данными\n",
    "X_train = pd.concat([X_train, train_vec_df], axis=1)\n",
    "X_test = pd.concat([X_test, test_vec_df], axis=1)"
   ]
  },
  {
   "cell_type": "code",
   "execution_count": 99,
   "id": "26d19b21",
   "metadata": {},
   "outputs": [
    {
     "name": "stdout",
     "output_type": "stream",
     "text": [
      "(35751, 101) (8938, 101)\n"
     ]
    }
   ],
   "source": [
    "print(X_train.shape, X_test.shape)"
   ]
  },
  {
   "cell_type": "code",
   "execution_count": 100,
   "id": "3e84d3b9",
   "metadata": {},
   "outputs": [],
   "source": [
    "X_train.drop(['text'], axis=1, inplace=True)\n",
    "X_test.drop(['text'], axis=1, inplace=True)"
   ]
  },
  {
   "cell_type": "code",
   "execution_count": 101,
   "id": "af608aee",
   "metadata": {},
   "outputs": [
    {
     "data": {
      "text/html": [
       "<div>\n",
       "<style scoped>\n",
       "    .dataframe tbody tr th:only-of-type {\n",
       "        vertical-align: middle;\n",
       "    }\n",
       "\n",
       "    .dataframe tbody tr th {\n",
       "        vertical-align: top;\n",
       "    }\n",
       "\n",
       "    .dataframe thead th {\n",
       "        text-align: right;\n",
       "    }\n",
       "</style>\n",
       "<table border=\"1\" class=\"dataframe\">\n",
       "  <thead>\n",
       "    <tr style=\"text-align: right;\">\n",
       "      <th></th>\n",
       "      <th>col0</th>\n",
       "      <th>col1</th>\n",
       "      <th>col2</th>\n",
       "      <th>col3</th>\n",
       "      <th>col4</th>\n",
       "      <th>col5</th>\n",
       "      <th>col6</th>\n",
       "      <th>col7</th>\n",
       "      <th>col8</th>\n",
       "      <th>col9</th>\n",
       "      <th>...</th>\n",
       "      <th>col90</th>\n",
       "      <th>col91</th>\n",
       "      <th>col92</th>\n",
       "      <th>col93</th>\n",
       "      <th>col94</th>\n",
       "      <th>col95</th>\n",
       "      <th>col96</th>\n",
       "      <th>col97</th>\n",
       "      <th>col98</th>\n",
       "      <th>col99</th>\n",
       "    </tr>\n",
       "  </thead>\n",
       "  <tbody>\n",
       "    <tr>\n",
       "      <th>7041</th>\n",
       "      <td>-0.00862</td>\n",
       "      <td>0.003666</td>\n",
       "      <td>0.005190</td>\n",
       "      <td>0.005742</td>\n",
       "      <td>0.007467</td>\n",
       "      <td>-0.006168</td>\n",
       "      <td>0.001106</td>\n",
       "      <td>0.006047</td>\n",
       "      <td>-0.002840</td>\n",
       "      <td>-0.006174</td>\n",
       "      <td>...</td>\n",
       "      <td>0.001088</td>\n",
       "      <td>-0.001576</td>\n",
       "      <td>0.002197</td>\n",
       "      <td>-0.007882</td>\n",
       "      <td>-0.002717</td>\n",
       "      <td>0.002663</td>\n",
       "      <td>0.005347</td>\n",
       "      <td>-0.002392</td>\n",
       "      <td>-0.009510</td>\n",
       "      <td>0.004506</td>\n",
       "    </tr>\n",
       "    <tr>\n",
       "      <th>5254</th>\n",
       "      <td>-0.00862</td>\n",
       "      <td>0.003666</td>\n",
       "      <td>0.005190</td>\n",
       "      <td>0.005742</td>\n",
       "      <td>0.007467</td>\n",
       "      <td>-0.006168</td>\n",
       "      <td>0.001106</td>\n",
       "      <td>0.006047</td>\n",
       "      <td>-0.002840</td>\n",
       "      <td>-0.006174</td>\n",
       "      <td>...</td>\n",
       "      <td>0.001088</td>\n",
       "      <td>-0.001576</td>\n",
       "      <td>0.002197</td>\n",
       "      <td>-0.007882</td>\n",
       "      <td>-0.002717</td>\n",
       "      <td>0.002663</td>\n",
       "      <td>0.005347</td>\n",
       "      <td>-0.002392</td>\n",
       "      <td>-0.009510</td>\n",
       "      <td>0.004506</td>\n",
       "    </tr>\n",
       "    <tr>\n",
       "      <th>40178</th>\n",
       "      <td>-0.00240</td>\n",
       "      <td>0.001691</td>\n",
       "      <td>0.004084</td>\n",
       "      <td>0.005318</td>\n",
       "      <td>0.003333</td>\n",
       "      <td>-0.001708</td>\n",
       "      <td>0.000890</td>\n",
       "      <td>0.002975</td>\n",
       "      <td>-0.004402</td>\n",
       "      <td>-0.003310</td>\n",
       "      <td>...</td>\n",
       "      <td>0.000703</td>\n",
       "      <td>-0.000987</td>\n",
       "      <td>0.001047</td>\n",
       "      <td>-0.003366</td>\n",
       "      <td>-0.000206</td>\n",
       "      <td>0.002325</td>\n",
       "      <td>0.002696</td>\n",
       "      <td>-0.002042</td>\n",
       "      <td>-0.002561</td>\n",
       "      <td>0.000464</td>\n",
       "    </tr>\n",
       "  </tbody>\n",
       "</table>\n",
       "<p>3 rows × 100 columns</p>\n",
       "</div>"
      ],
      "text/plain": [
       "          col0      col1      col2      col3      col4      col5      col6  \\\n",
       "7041  -0.00862  0.003666  0.005190  0.005742  0.007467 -0.006168  0.001106   \n",
       "5254  -0.00862  0.003666  0.005190  0.005742  0.007467 -0.006168  0.001106   \n",
       "40178 -0.00240  0.001691  0.004084  0.005318  0.003333 -0.001708  0.000890   \n",
       "\n",
       "           col7      col8      col9  ...     col90     col91     col92  \\\n",
       "7041   0.006047 -0.002840 -0.006174  ...  0.001088 -0.001576  0.002197   \n",
       "5254   0.006047 -0.002840 -0.006174  ...  0.001088 -0.001576  0.002197   \n",
       "40178  0.002975 -0.004402 -0.003310  ...  0.000703 -0.000987  0.001047   \n",
       "\n",
       "          col93     col94     col95     col96     col97     col98     col99  \n",
       "7041  -0.007882 -0.002717  0.002663  0.005347 -0.002392 -0.009510  0.004506  \n",
       "5254  -0.007882 -0.002717  0.002663  0.005347 -0.002392 -0.009510  0.004506  \n",
       "40178 -0.003366 -0.000206  0.002325  0.002696 -0.002042 -0.002561  0.000464  \n",
       "\n",
       "[3 rows x 100 columns]"
      ]
     },
     "execution_count": 101,
     "metadata": {},
     "output_type": "execute_result"
    }
   ],
   "source": [
    "X_train.head(3)"
   ]
  },
  {
   "cell_type": "code",
   "execution_count": 102,
   "id": "792016ca",
   "metadata": {},
   "outputs": [
    {
     "data": {
      "text/plain": [
       "(35751, 100)"
      ]
     },
     "execution_count": 102,
     "metadata": {},
     "output_type": "execute_result"
    }
   ],
   "source": [
    "X_train.shape"
   ]
  },
  {
   "cell_type": "markdown",
   "id": "8b2d0a29",
   "metadata": {},
   "source": [
    "##### Обучаем модель логистической регрессии"
   ]
  },
  {
   "cell_type": "code",
   "execution_count": 103,
   "id": "ffb8e0ee",
   "metadata": {},
   "outputs": [
    {
     "data": {
      "text/plain": [
       "(0.7528740454812453, 0.7517341687178339)"
      ]
     },
     "execution_count": 103,
     "metadata": {},
     "output_type": "execute_result"
    }
   ],
   "source": [
    "lr_clf = LogisticRegression()\n",
    "lr_clf.fit(X_train, y_train)\n",
    "\n",
    "lr_train_pred = lr_clf.predict(X_train)\n",
    "lr_test_pred = lr_clf.predict(X_test)\n",
    "\n",
    "accuracy_score(y_train, lr_train_pred), accuracy_score(y_test, lr_test_pred)"
   ]
  },
  {
   "cell_type": "markdown",
   "id": "c4811fb1",
   "metadata": {},
   "source": [
    "### Предобученные модели из gensim"
   ]
  },
  {
   "cell_type": "markdown",
   "id": "44652660",
   "metadata": {},
   "source": [
    "**Загружаем векторы слов из предобученных моделей**"
   ]
  },
  {
   "cell_type": "code",
   "execution_count": 106,
   "id": "4351357d",
   "metadata": {},
   "outputs": [
    {
     "name": "stdout",
     "output_type": "stream",
     "text": [
      "['fasttext-wiki-news-subwords-300', 'conceptnet-numberbatch-17-06-300', 'word2vec-ruscorpora-300', 'word2vec-google-news-300', 'glove-wiki-gigaword-50', 'glove-wiki-gigaword-100', 'glove-wiki-gigaword-200', 'glove-wiki-gigaword-300', 'glove-twitter-25', 'glove-twitter-50', 'glove-twitter-100', 'glove-twitter-200', '__testing_word2vec-matrix-synopsis']\n"
     ]
    }
   ],
   "source": [
    "# Список всех доступных предпобученных моделей\n",
    "print(list(gensim.downloader.info()['models'].keys()))"
   ]
  },
  {
   "cell_type": "code",
   "execution_count": 107,
   "id": "57019169",
   "metadata": {},
   "outputs": [],
   "source": [
    "glove_vectors = gensim.downloader.load('glove-twitter-25')"
   ]
  },
  {
   "cell_type": "markdown",
   "id": "a3bd46f4",
   "metadata": {},
   "source": [
    "##### Пример вектора слов"
   ]
  },
  {
   "cell_type": "code",
   "execution_count": 110,
   "id": "5eb6dd75",
   "metadata": {},
   "outputs": [
    {
     "data": {
      "text/plain": [
       "array([-0.026332,  1.2378  , -0.19281 , -1.1141  ,  0.10783 , -0.056344,\n",
       "       -0.59693 , -0.14492 ,  1.1163  ,  1.1818  ,  0.8562  ,  0.65737 ,\n",
       "       -3.4613  ,  0.10235 ,  0.26078 , -0.42548 ,  0.42242 ,  0.22929 ,\n",
       "       -0.55839 ,  0.16926 , -0.78357 , -0.78385 , -0.64772 , -0.62314 ,\n",
       "       -0.44248 ], dtype=float32)"
      ]
     },
     "execution_count": 110,
     "metadata": {},
     "output_type": "execute_result"
    }
   ],
   "source": [
    "glove_vectors['bank']"
   ]
  },
  {
   "cell_type": "markdown",
   "id": "f571acf9",
   "metadata": {},
   "source": [
    "### Предобученный BERT"
   ]
  },
  {
   "cell_type": "code",
   "execution_count": 111,
   "id": "8dcd15bd",
   "metadata": {},
   "outputs": [
    {
     "name": "stdout",
     "output_type": "stream",
     "text": [
      "Requirement already satisfied: transformers in c:\\users\\mi\\anaconda3\\lib\\site-packages (4.52.4)\n",
      "Requirement already satisfied: filelock in c:\\users\\mi\\anaconda3\\lib\\site-packages (from transformers) (3.6.0)\n",
      "Requirement already satisfied: huggingface-hub<1.0,>=0.30.0 in c:\\users\\mi\\anaconda3\\lib\\site-packages (from transformers) (0.32.6)\n",
      "Requirement already satisfied: numpy>=1.17 in c:\\users\\mi\\anaconda3\\lib\\site-packages (from transformers) (1.24.4)\n",
      "Requirement already satisfied: packaging>=20.0 in c:\\users\\mi\\anaconda3\\lib\\site-packages (from transformers) (21.3)\n",
      "Requirement already satisfied: pyyaml>=5.1 in c:\\users\\mi\\anaconda3\\lib\\site-packages (from transformers) (6.0)\n",
      "Requirement already satisfied: regex!=2019.12.17 in c:\\users\\mi\\anaconda3\\lib\\site-packages (from transformers) (2022.7.9)\n",
      "Requirement already satisfied: requests in c:\\users\\mi\\anaconda3\\lib\\site-packages (from transformers) (2.28.1)\n",
      "Requirement already satisfied: tokenizers<0.22,>=0.21 in c:\\users\\mi\\anaconda3\\lib\\site-packages (from transformers) (0.21.1)\n",
      "Requirement already satisfied: safetensors>=0.4.3 in c:\\users\\mi\\anaconda3\\lib\\site-packages (from transformers) (0.5.3)\n",
      "Requirement already satisfied: tqdm>=4.27 in c:\\users\\mi\\anaconda3\\lib\\site-packages (from transformers) (4.64.1)\n",
      "Requirement already satisfied: fsspec>=2023.5.0 in c:\\users\\mi\\anaconda3\\lib\\site-packages (from huggingface-hub<1.0,>=0.30.0->transformers) (2025.5.1)\n",
      "Requirement already satisfied: typing-extensions>=3.7.4.3 in c:\\users\\mi\\anaconda3\\lib\\site-packages (from huggingface-hub<1.0,>=0.30.0->transformers) (4.13.2)\n",
      "Requirement already satisfied: pyparsing!=3.0.5,>=2.0.2 in c:\\users\\mi\\anaconda3\\lib\\site-packages (from packaging>=20.0->transformers) (3.0.9)\n",
      "Requirement already satisfied: colorama in c:\\users\\mi\\anaconda3\\lib\\site-packages (from tqdm>=4.27->transformers) (0.4.5)\n",
      "Requirement already satisfied: charset-normalizer<3,>=2 in c:\\users\\mi\\anaconda3\\lib\\site-packages (from requests->transformers) (2.0.4)\n",
      "Requirement already satisfied: idna<4,>=2.5 in c:\\users\\mi\\anaconda3\\lib\\site-packages (from requests->transformers) (3.3)\n",
      "Requirement already satisfied: urllib3<1.27,>=1.21.1 in c:\\users\\mi\\anaconda3\\lib\\site-packages (from requests->transformers) (1.26.20)\n",
      "Requirement already satisfied: certifi>=2017.4.17 in c:\\users\\mi\\anaconda3\\lib\\site-packages (from requests->transformers) (2025.4.26)\n"
     ]
    },
    {
     "name": "stderr",
     "output_type": "stream",
     "text": [
      "\n",
      "[notice] A new release of pip is available: 25.0.1 -> 25.1.1\n",
      "[notice] To update, run: python.exe -m pip install --upgrade pip\n"
     ]
    }
   ],
   "source": [
    "!pip install transformers"
   ]
  },
  {
   "cell_type": "markdown",
   "id": "aa6fe7f3",
   "metadata": {},
   "source": [
    "### DistilBERT"
   ]
  },
  {
   "cell_type": "code",
   "execution_count": 123,
   "id": "717388aa",
   "metadata": {},
   "outputs": [],
   "source": [
    "# For DistilBERT\n",
    "# Достаем модель, токенацзер и предобученные веса\n",
    "model_class, tokenizer_class, pretrained_weights = (ppb.DistilBertModel, ppb.DistilBertTokenizer, 'distilbert-base-uncased')"
   ]
  },
  {
   "cell_type": "code",
   "execution_count": 129,
   "id": "05310def",
   "metadata": {},
   "outputs": [],
   "source": [
    "# Загружаем предобученную модель и токенайзер\n",
    "tokenizer = tokenizer_class.from_pretrained(pretrained_weights)\n",
    "model = model_class.from_pretrained(pretrained_weights)"
   ]
  },
  {
   "cell_type": "code",
   "execution_count": 132,
   "id": "a94603c1",
   "metadata": {},
   "outputs": [
    {
     "data": {
      "text/plain": [
       "'distilbert-base-uncased'"
      ]
     },
     "execution_count": 132,
     "metadata": {},
     "output_type": "execute_result"
    }
   ],
   "source": [
    "pretrained_weights"
   ]
  },
  {
   "cell_type": "markdown",
   "id": "e710e768",
   "metadata": {},
   "source": [
    "##### Токенизация"
   ]
  },
  {
   "cell_type": "code",
   "execution_count": 116,
   "id": "797be137",
   "metadata": {},
   "outputs": [
    {
     "data": {
      "text/plain": [
       "0    WASHINGTON (Reuters) - The head of a conservat...\n",
       "1    WASHINGTON (Reuters) - Transgender people will...\n",
       "2    WASHINGTON (Reuters) - The special counsel inv...\n",
       "Name: text, dtype: object"
      ]
     },
     "execution_count": 116,
     "metadata": {},
     "output_type": "execute_result"
    }
   ],
   "source": [
    "df_unique['text'].head(3)"
   ]
  },
  {
   "cell_type": "code",
   "execution_count": 135,
   "id": "01e96be4",
   "metadata": {},
   "outputs": [],
   "source": [
    "def truncate_to_512_bytes(text, max_bytes=512, encoding='utf-8'):\n",
    "    if not isinstance(text, str):\n",
    "        return text  # если не строка, возвращаем как есть\n",
    "    encoded = text.encode(encoding)\n",
    "    if len(encoded) <= max_bytes:\n",
    "        return text\n",
    "    truncated_encoded = encoded[:max_bytes]\n",
    "    # Декодируем обратно, игнорируя обрезанные символы в конце\n",
    "    return truncated_encoded.decode(encoding, errors='ignore')\n",
    "\n",
    "# Применяем к столбцу 'text'\n",
    "df_unique['text_truncated'] = df_unique['text'].apply(truncate_to_512_bytes)"
   ]
  },
  {
   "cell_type": "code",
   "execution_count": 136,
   "id": "3282e76a",
   "metadata": {},
   "outputs": [],
   "source": [
    "tokenized = df_unique['text_truncated'].apply((lambda x: tokenizer.encode(x, add_special_tokens=True)))"
   ]
  },
  {
   "cell_type": "code",
   "execution_count": 137,
   "id": "e1e3a79c",
   "metadata": {},
   "outputs": [
    {
     "data": {
      "text/plain": [
       "0    [101, 2899, 1006, 26665, 1007, 1011, 1996, 213...\n",
       "1    [101, 2899, 1006, 26665, 1007, 1011, 16824, 21...\n",
       "2    [101, 2899, 1006, 26665, 1007, 1011, 1996, 256...\n",
       "3    [101, 2899, 1006, 26665, 1007, 1011, 8398, 304...\n",
       "4    [101, 5862, 1013, 2899, 1006, 26665, 1007, 101...\n",
       "Name: text_truncated, dtype: object"
      ]
     },
     "execution_count": 137,
     "metadata": {},
     "output_type": "execute_result"
    }
   ],
   "source": [
    "tokenized.head(5)"
   ]
  },
  {
   "cell_type": "markdown",
   "id": "c287b34a",
   "metadata": {},
   "source": [
    "### Паддинг"
   ]
  },
  {
   "cell_type": "markdown",
   "id": "ffa5c616",
   "metadata": {},
   "source": [
    "**Так как подаем данные в BERT батчами, поэтому все группы должны быть одинаковой длины**"
   ]
  },
  {
   "cell_type": "code",
   "execution_count": 138,
   "id": "673b78f1",
   "metadata": {},
   "outputs": [],
   "source": [
    "max_len = 0\n",
    "for i in tokenized.values:\n",
    "    if len(i) > max_len:\n",
    "        max_len = len(i)"
   ]
  },
  {
   "cell_type": "code",
   "execution_count": 139,
   "id": "84ae44a5",
   "metadata": {},
   "outputs": [],
   "source": [
    "# Делаем все группы одной длины\n",
    "padded = np.array([i + [0]*(max_len-len(i)) for i in tokenized.values])"
   ]
  },
  {
   "cell_type": "code",
   "execution_count": 140,
   "id": "a6e639fe",
   "metadata": {},
   "outputs": [
    {
     "data": {
      "text/plain": [
       "array([[  101,  2899,  1006, ...,     0,     0,     0],\n",
       "       [  101,  2899,  1006, ...,     0,     0,     0],\n",
       "       [  101,  2899,  1006, ...,     0,     0,     0],\n",
       "       ...,\n",
       "       [  101,  4754, 21863, ...,     0,     0,     0],\n",
       "       [  101,  7398,  2301, ...,     0,     0,     0],\n",
       "       [  101,  7398,  2301, ...,     0,     0,     0]])"
      ]
     },
     "execution_count": 140,
     "metadata": {},
     "output_type": "execute_result"
    }
   ],
   "source": [
    "padded"
   ]
  },
  {
   "cell_type": "code",
   "execution_count": 141,
   "id": "fb47a670",
   "metadata": {},
   "outputs": [
    {
     "data": {
      "text/plain": [
       "(44689, 236)"
      ]
     },
     "execution_count": 141,
     "metadata": {},
     "output_type": "execute_result"
    }
   ],
   "source": [
    "np.array(padded).shape"
   ]
  },
  {
   "cell_type": "markdown",
   "id": "f618d605",
   "metadata": {},
   "source": [
    "### Masking"
   ]
  },
  {
   "cell_type": "markdown",
   "id": "3400065d",
   "metadata": {},
   "source": [
    "**Нужно показать, что нули - это пустые добавочные символы**"
   ]
  },
  {
   "cell_type": "code",
   "execution_count": 142,
   "id": "37f86456",
   "metadata": {},
   "outputs": [
    {
     "data": {
      "text/plain": [
       "(44689, 236)"
      ]
     },
     "execution_count": 142,
     "metadata": {},
     "output_type": "execute_result"
    }
   ],
   "source": [
    "attention_mask = np.where(padded != 0, 1, 0)\n",
    "attention_mask.shape"
   ]
  },
  {
   "cell_type": "markdown",
   "id": "6f04d778",
   "metadata": {},
   "source": [
    "### Применение модели BERT"
   ]
  },
  {
   "cell_type": "markdown",
   "id": "15cef84f",
   "metadata": {},
   "source": [
    "**Необходимые векторы находятся в переменной last_hidden_states**"
   ]
  },
  {
   "cell_type": "code",
   "execution_count": 145,
   "id": "0deefc99",
   "metadata": {},
   "outputs": [],
   "source": [
    "input_ids = torch.tensor(padded)\n",
    "attention_mask = torch.tensor(attention_mask)"
   ]
  },
  {
   "cell_type": "markdown",
   "id": "aa9267fa",
   "metadata": {},
   "source": [
    "* **padded** — это список списков токенов одинаковой длины, полученных после процедуры паддинга\n",
    "\n",
    "* **torch.tensor(padded)** — создает из этого списка тензор, который можно подавать на вход нейросетевой модели в PyTorch"
   ]
  },
  {
   "cell_type": "code",
   "execution_count": 176,
   "id": "52b44579",
   "metadata": {},
   "outputs": [
    {
     "data": {
      "text/plain": [
       "tensor([[  101,  1194, 16856,  ...,     0,     0,     0],\n",
       "        [  101,  1194, 16856,  ...,     0,     0,     0]])"
      ]
     },
     "execution_count": 176,
     "metadata": {},
     "output_type": "execute_result"
    }
   ],
   "source": [
    "input_ids"
   ]
  },
  {
   "cell_type": "code",
   "execution_count": 177,
   "id": "ee946996",
   "metadata": {},
   "outputs": [
    {
     "data": {
      "text/plain": [
       "tensor([[1, 1, 1,  ..., 0, 0, 0],\n",
       "        [1, 1, 1,  ..., 0, 0, 0]])"
      ]
     },
     "execution_count": 177,
     "metadata": {},
     "output_type": "execute_result"
    }
   ],
   "source": [
    "attention_mask"
   ]
  },
  {
   "cell_type": "code",
   "execution_count": null,
   "id": "1db0e2a4",
   "metadata": {},
   "outputs": [],
   "source": []
  }
 ],
 "metadata": {
  "kernelspec": {
   "display_name": "Python 3 (ipykernel)",
   "language": "python",
   "name": "python3"
  },
  "language_info": {
   "codemirror_mode": {
    "name": "ipython",
    "version": 3
   },
   "file_extension": ".py",
   "mimetype": "text/x-python",
   "name": "python",
   "nbconvert_exporter": "python",
   "pygments_lexer": "ipython3",
   "version": "3.9.13"
  }
 },
 "nbformat": 4,
 "nbformat_minor": 5
}
