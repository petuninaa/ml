{
 "cells": [
  {
   "cell_type": "markdown",
   "id": "00098825",
   "metadata": {},
   "source": [
    "## Дирекция инвестиционной экспертизы\n",
    "### Кейс \"Кофейня\""
   ]
  },
  {
   "cell_type": "markdown",
   "id": "f7c3a282",
   "metadata": {},
   "source": [
    "##### Подключение библиотек"
   ]
  },
  {
   "cell_type": "code",
   "execution_count": 1,
   "id": "a52ccd08",
   "metadata": {},
   "outputs": [],
   "source": [
    "import numpy as np\n",
    "import pandas as pd\n",
    "import scipy as scipy\n",
    "import random\n",
    "from scipy.stats import multivariate_normal\n",
    "import matplotlib.pyplot as plt\n",
    "from scipy.stats import t, chi2, f, norm, poisson, binom, uniform, expon, logistic\n",
    "import seaborn"
   ]
  },
  {
   "cell_type": "markdown",
   "id": "ac1718d2",
   "metadata": {},
   "source": [
    "##### Генерация данных \"До проведения эксперимента\""
   ]
  },
  {
   "cell_type": "code",
   "execution_count": 2,
   "id": "998492f1",
   "metadata": {},
   "outputs": [
    {
     "data": {
      "text/html": [
       "<div>\n",
       "<style scoped>\n",
       "    .dataframe tbody tr th:only-of-type {\n",
       "        vertical-align: middle;\n",
       "    }\n",
       "\n",
       "    .dataframe tbody tr th {\n",
       "        vertical-align: top;\n",
       "    }\n",
       "\n",
       "    .dataframe thead th {\n",
       "        text-align: right;\n",
       "    }\n",
       "</style>\n",
       "<table border=\"1\" class=\"dataframe\">\n",
       "  <thead>\n",
       "    <tr style=\"text-align: right;\">\n",
       "      <th></th>\n",
       "      <th>number of cup old</th>\n",
       "    </tr>\n",
       "  </thead>\n",
       "  <tbody>\n",
       "    <tr>\n",
       "      <th>0</th>\n",
       "      <td>10</td>\n",
       "    </tr>\n",
       "    <tr>\n",
       "      <th>1</th>\n",
       "      <td>18</td>\n",
       "    </tr>\n",
       "    <tr>\n",
       "      <th>2</th>\n",
       "      <td>10</td>\n",
       "    </tr>\n",
       "    <tr>\n",
       "      <th>3</th>\n",
       "      <td>5</td>\n",
       "    </tr>\n",
       "    <tr>\n",
       "      <th>4</th>\n",
       "      <td>4</td>\n",
       "    </tr>\n",
       "    <tr>\n",
       "      <th>5</th>\n",
       "      <td>6</td>\n",
       "    </tr>\n",
       "    <tr>\n",
       "      <th>6</th>\n",
       "      <td>3</td>\n",
       "    </tr>\n",
       "    <tr>\n",
       "      <th>7</th>\n",
       "      <td>5</td>\n",
       "    </tr>\n",
       "    <tr>\n",
       "      <th>8</th>\n",
       "      <td>9</td>\n",
       "    </tr>\n",
       "    <tr>\n",
       "      <th>9</th>\n",
       "      <td>17</td>\n",
       "    </tr>\n",
       "  </tbody>\n",
       "</table>\n",
       "</div>"
      ],
      "text/plain": [
       "   number of cup old\n",
       "0                 10\n",
       "1                 18\n",
       "2                 10\n",
       "3                  5\n",
       "4                  4\n",
       "5                  6\n",
       "6                  3\n",
       "7                  5\n",
       "8                  9\n",
       "9                 17"
      ]
     },
     "execution_count": 2,
     "metadata": {},
     "output_type": "execute_result"
    }
   ],
   "source": [
    "np.random.seed(321)\n",
    "n_old = 5001\n",
    "\n",
    "# Количество купленных чашек кофе до проведения эксперимента\n",
    "num_of_cup_old = norm.rvs(size = 5000, loc = 10, scale = 5)\n",
    "num_of_cup_old[num_of_cup_old <= 0] = 0\n",
    "\n",
    "number_of_cup_old = []\n",
    "\n",
    "for cup in num_of_cup_old:\n",
    "    number_of_cup_old.append(int(cup))\n",
    "    \n",
    "\n",
    "# Визуализация\n",
    "df_old = pd.DataFrame({'number of cup old' : number_of_cup_old})\n",
    "df_old = df_old.loc[0:n_old, :]\n",
    "\n",
    "df_old.head(10)"
   ]
  },
  {
   "cell_type": "markdown",
   "id": "17fd2298",
   "metadata": {},
   "source": [
    "##### Выявляем постоянных клиентов"
   ]
  },
  {
   "cell_type": "code",
   "execution_count": 3,
   "id": "ab2ebb60",
   "metadata": {},
   "outputs": [
    {
     "data": {
      "text/plain": [
       "(4729, 1)"
      ]
     },
     "execution_count": 3,
     "metadata": {},
     "output_type": "execute_result"
    }
   ],
   "source": [
    "df = df_old[df_old['number of cup old'] >= 2]\n",
    "df.shape"
   ]
  },
  {
   "cell_type": "code",
   "execution_count": 4,
   "id": "b92b10b9",
   "metadata": {},
   "outputs": [
    {
     "name": "stdout",
     "output_type": "stream",
     "text": [
      "27\n"
     ]
    }
   ],
   "source": [
    "# Максимальное число приобретенных чашек кофе\n",
    "print(max(df['number of cup old']))"
   ]
  },
  {
   "cell_type": "markdown",
   "id": "05856c75",
   "metadata": {},
   "source": [
    "##### Проверка данных на наличие выбросов"
   ]
  },
  {
   "cell_type": "code",
   "execution_count": 5,
   "id": "ec15c532",
   "metadata": {},
   "outputs": [
    {
     "name": "stderr",
     "output_type": "stream",
     "text": [
      "C:\\Users\\Mi\\anaconda3\\lib\\site-packages\\seaborn\\_decorators.py:36: FutureWarning: Pass the following variable as a keyword arg: x. From version 0.12, the only valid positional argument will be `data`, and passing other arguments without an explicit keyword will result in an error or misinterpretation.\n",
      "  warnings.warn(\n"
     ]
    },
    {
     "data": {
      "text/plain": [
       "<AxesSubplot:xlabel='number of cup old'>"
      ]
     },
     "execution_count": 5,
     "metadata": {},
     "output_type": "execute_result"
    },
    {
     "data": {
      "image/png": "[encoded data removed]",
      "text/plain": [
       "<Figure size 640x480 with 1 Axes>"
      ]
     },
     "metadata": {},
     "output_type": "display_data"
    }
   ],
   "source": [
    "# Box Plot\n",
    "import seaborn as sns\n",
    "sns.boxplot(df['number of cup old'])"
   ]
  },
  {
   "cell_type": "markdown",
   "id": "d9c2bc44",
   "metadata": {},
   "source": [
    "##### Оценка объемов продаж"
   ]
  },
  {
   "cell_type": "code",
   "execution_count": 6,
   "id": "12d61361",
   "metadata": {},
   "outputs": [
    {
     "name": "stdout",
     "output_type": "stream",
     "text": [
      "47795\n",
      "10\n"
     ]
    }
   ],
   "source": [
    "# Количество купленных чашек до проведения эксперимента\n",
    "cup_old = sum(df['number of cup old'])\n",
    "print(cup_old)\n",
    "\n",
    "# Среднее количество проданных чашек до проведения эксперимента\n",
    "import math\n",
    "avg_cup_old = math.floor(cup_old / df.shape[0])\n",
    "print(avg_cup_old)"
   ]
  },
  {
   "cell_type": "markdown",
   "id": "fb1b5dc6",
   "metadata": {},
   "source": [
    "##### Генерация даннных \"Продаем клиентам Сорт 1\""
   ]
  },
  {
   "cell_type": "code",
   "execution_count": 7,
   "id": "8b917b67",
   "metadata": {},
   "outputs": [
    {
     "data": {
      "text/html": [
       "<div>\n",
       "<style scoped>\n",
       "    .dataframe tbody tr th:only-of-type {\n",
       "        vertical-align: middle;\n",
       "    }\n",
       "\n",
       "    .dataframe tbody tr th {\n",
       "        vertical-align: top;\n",
       "    }\n",
       "\n",
       "    .dataframe thead th {\n",
       "        text-align: right;\n",
       "    }\n",
       "</style>\n",
       "<table border=\"1\" class=\"dataframe\">\n",
       "  <thead>\n",
       "    <tr style=\"text-align: right;\">\n",
       "      <th></th>\n",
       "      <th>number of cup 1</th>\n",
       "    </tr>\n",
       "  </thead>\n",
       "  <tbody>\n",
       "    <tr>\n",
       "      <th>0</th>\n",
       "      <td>14</td>\n",
       "    </tr>\n",
       "    <tr>\n",
       "      <th>1</th>\n",
       "      <td>18</td>\n",
       "    </tr>\n",
       "    <tr>\n",
       "      <th>2</th>\n",
       "      <td>14</td>\n",
       "    </tr>\n",
       "    <tr>\n",
       "      <th>3</th>\n",
       "      <td>11</td>\n",
       "    </tr>\n",
       "    <tr>\n",
       "      <th>4</th>\n",
       "      <td>10</td>\n",
       "    </tr>\n",
       "    <tr>\n",
       "      <th>5</th>\n",
       "      <td>12</td>\n",
       "    </tr>\n",
       "    <tr>\n",
       "      <th>6</th>\n",
       "      <td>9</td>\n",
       "    </tr>\n",
       "    <tr>\n",
       "      <th>7</th>\n",
       "      <td>11</td>\n",
       "    </tr>\n",
       "    <tr>\n",
       "      <th>8</th>\n",
       "      <td>13</td>\n",
       "    </tr>\n",
       "    <tr>\n",
       "      <th>9</th>\n",
       "      <td>18</td>\n",
       "    </tr>\n",
       "  </tbody>\n",
       "</table>\n",
       "</div>"
      ],
      "text/plain": [
       "   number of cup 1\n",
       "0               14\n",
       "1               18\n",
       "2               14\n",
       "3               11\n",
       "4               10\n",
       "5               12\n",
       "6                9\n",
       "7               11\n",
       "8               13\n",
       "9               18"
      ]
     },
     "execution_count": 7,
     "metadata": {},
     "output_type": "execute_result"
    }
   ],
   "source": [
    "np.random.seed(321)\n",
    "n_1 = 5001\n",
    "\n",
    "# Количество купленных чашек кофе до проведения эксперимента\n",
    "num_of_cup_1 = norm.rvs(size = 5000, loc = 14, scale = 3)\n",
    "num_of_cup_1[num_of_cup_1 <= 0] = 0\n",
    "\n",
    "number_of_cup_1 = []\n",
    "\n",
    "for cup in num_of_cup_1:\n",
    "    number_of_cup_1.append(int(cup))\n",
    "    \n",
    "\n",
    "# Визуализация\n",
    "df_1 = pd.DataFrame({'number of cup 1' : number_of_cup_1})\n",
    "df_1 = df_1.loc[0:n_1, :]\n",
    "\n",
    "df_1.head(10)"
   ]
  },
  {
   "cell_type": "markdown",
   "id": "e668967a",
   "metadata": {},
   "source": [
    "##### Выявляем постоянных клиентов Сорта 1"
   ]
  },
  {
   "cell_type": "code",
   "execution_count": 8,
   "id": "de6eeeb4",
   "metadata": {},
   "outputs": [
    {
     "data": {
      "text/plain": [
       "(5000, 1)"
      ]
     },
     "execution_count": 8,
     "metadata": {},
     "output_type": "execute_result"
    }
   ],
   "source": [
    "df_1_new = df_1[df_1['number of cup 1'] >= 2]\n",
    "df_1_new.shape"
   ]
  },
  {
   "cell_type": "code",
   "execution_count": 9,
   "id": "906b4c13",
   "metadata": {},
   "outputs": [
    {
     "name": "stdout",
     "output_type": "stream",
     "text": [
      "24\n"
     ]
    }
   ],
   "source": [
    "# Максимальное число приобретенных чашек кофе Сорта 1\n",
    "print(max(df_1_new['number of cup 1']))"
   ]
  },
  {
   "cell_type": "markdown",
   "id": "e72424e0",
   "metadata": {},
   "source": [
    "##### Проверка данных на наличие выбросов (Сорт 1)"
   ]
  },
  {
   "cell_type": "code",
   "execution_count": 10,
   "id": "ebdd1174",
   "metadata": {},
   "outputs": [
    {
     "name": "stderr",
     "output_type": "stream",
     "text": [
      "C:\\Users\\Mi\\anaconda3\\lib\\site-packages\\seaborn\\_decorators.py:36: FutureWarning: Pass the following variable as a keyword arg: x. From version 0.12, the only valid positional argument will be `data`, and passing other arguments without an explicit keyword will result in an error or misinterpretation.\n",
      "  warnings.warn(\n"
     ]
    },
    {
     "data": {
      "text/plain": [
       "<AxesSubplot:xlabel='number of cup 1'>"
      ]
     },
     "execution_count": 10,
     "metadata": {},
     "output_type": "execute_result"
    },
    {
     "data": {
      "image/png": "[encoded data removed]",
      "text/plain": [
       "<Figure size 640x480 with 1 Axes>"
      ]
     },
     "metadata": {},
     "output_type": "display_data"
    }
   ],
   "source": [
    "# Box Plot\n",
    "import seaborn as sns\n",
    "sns.boxplot(df_1_new['number of cup 1'])"
   ]
  },
  {
   "cell_type": "markdown",
   "id": "8ef25e9b",
   "metadata": {},
   "source": [
    "##### Оценка объемов продаж Сорта 1"
   ]
  },
  {
   "cell_type": "code",
   "execution_count": 11,
   "id": "8f4bf0ed",
   "metadata": {},
   "outputs": [
    {
     "name": "stdout",
     "output_type": "stream",
     "text": [
      "67585\n",
      "13\n"
     ]
    }
   ],
   "source": [
    "# Количество купленных чашек Сорта 1\n",
    "cup_1 = sum(df_1_new['number of cup 1'])\n",
    "print(cup_1)\n",
    "\n",
    "# Среднее количество проданных чашек Сорта 1\n",
    "avg_cup_1 =  math.floor(cup_1 / df_1_new.shape[0])\n",
    "print(avg_cup_1)"
   ]
  },
  {
   "cell_type": "markdown",
   "id": "9d55176a",
   "metadata": {},
   "source": [
    "##### Генерация даннных \"Продаем клиентам Сорт 2\""
   ]
  },
  {
   "cell_type": "code",
   "execution_count": 12,
   "id": "e996af90",
   "metadata": {},
   "outputs": [
    {
     "data": {
      "text/html": [
       "<div>\n",
       "<style scoped>\n",
       "    .dataframe tbody tr th:only-of-type {\n",
       "        vertical-align: middle;\n",
       "    }\n",
       "\n",
       "    .dataframe tbody tr th {\n",
       "        vertical-align: top;\n",
       "    }\n",
       "\n",
       "    .dataframe thead th {\n",
       "        text-align: right;\n",
       "    }\n",
       "</style>\n",
       "<table border=\"1\" class=\"dataframe\">\n",
       "  <thead>\n",
       "    <tr style=\"text-align: right;\">\n",
       "      <th></th>\n",
       "      <th>number of cup 2</th>\n",
       "    </tr>\n",
       "  </thead>\n",
       "  <tbody>\n",
       "    <tr>\n",
       "      <th>0</th>\n",
       "      <td>8</td>\n",
       "    </tr>\n",
       "    <tr>\n",
       "      <th>1</th>\n",
       "      <td>14</td>\n",
       "    </tr>\n",
       "    <tr>\n",
       "      <th>2</th>\n",
       "      <td>8</td>\n",
       "    </tr>\n",
       "    <tr>\n",
       "      <th>3</th>\n",
       "      <td>4</td>\n",
       "    </tr>\n",
       "    <tr>\n",
       "      <th>4</th>\n",
       "      <td>3</td>\n",
       "    </tr>\n",
       "    <tr>\n",
       "      <th>5</th>\n",
       "      <td>5</td>\n",
       "    </tr>\n",
       "    <tr>\n",
       "      <th>6</th>\n",
       "      <td>2</td>\n",
       "    </tr>\n",
       "    <tr>\n",
       "      <th>7</th>\n",
       "      <td>4</td>\n",
       "    </tr>\n",
       "    <tr>\n",
       "      <th>8</th>\n",
       "      <td>7</td>\n",
       "    </tr>\n",
       "    <tr>\n",
       "      <th>9</th>\n",
       "      <td>14</td>\n",
       "    </tr>\n",
       "  </tbody>\n",
       "</table>\n",
       "</div>"
      ],
      "text/plain": [
       "   number of cup 2\n",
       "0                8\n",
       "1               14\n",
       "2                8\n",
       "3                4\n",
       "4                3\n",
       "5                5\n",
       "6                2\n",
       "7                4\n",
       "8                7\n",
       "9               14"
      ]
     },
     "execution_count": 12,
     "metadata": {},
     "output_type": "execute_result"
    }
   ],
   "source": [
    "np.random.seed(321)\n",
    "n_2 = 5001\n",
    "\n",
    "# Количество купленных чашек кофе до проведения эксперимента\n",
    "num_of_cup_2 = norm.rvs(size = 5000, loc = 8, scale = 4)\n",
    "num_of_cup_2[num_of_cup_2 <= 0] = 0\n",
    "\n",
    "number_of_cup_2 = []\n",
    "\n",
    "for cup in num_of_cup_2:\n",
    "    number_of_cup_2.append(int(cup))\n",
    "    \n",
    "\n",
    "# Визуализация\n",
    "df_2 = pd.DataFrame({'number of cup 2' : number_of_cup_2})\n",
    "df_2 = df_2.loc[0:n_2, :]\n",
    "\n",
    "df_2.head(10)"
   ]
  },
  {
   "cell_type": "markdown",
   "id": "706d918e",
   "metadata": {},
   "source": [
    "##### Выявляем постоянных клиентов Сорта 2"
   ]
  },
  {
   "cell_type": "code",
   "execution_count": 13,
   "id": "6e401feb",
   "metadata": {},
   "outputs": [
    {
     "data": {
      "text/plain": [
       "(4663, 1)"
      ]
     },
     "execution_count": 13,
     "metadata": {},
     "output_type": "execute_result"
    }
   ],
   "source": [
    "df_2_new = df_2[df_2['number of cup 2'] >= 2]\n",
    "df_2_new.shape"
   ]
  },
  {
   "cell_type": "code",
   "execution_count": 14,
   "id": "b74c1933",
   "metadata": {},
   "outputs": [
    {
     "name": "stdout",
     "output_type": "stream",
     "text": [
      "22\n"
     ]
    }
   ],
   "source": [
    "# Максимальное число приобретенных чашек кофе Сорта 2\n",
    "print(max(df_2_new['number of cup 2']))"
   ]
  },
  {
   "cell_type": "markdown",
   "id": "763d7baf",
   "metadata": {},
   "source": [
    "##### Проверка данных на наличие выбросов (Сорт 2)"
   ]
  },
  {
   "cell_type": "code",
   "execution_count": 15,
   "id": "cbe2a62c",
   "metadata": {},
   "outputs": [
    {
     "name": "stderr",
     "output_type": "stream",
     "text": [
      "C:\\Users\\Mi\\anaconda3\\lib\\site-packages\\seaborn\\_decorators.py:36: FutureWarning: Pass the following variable as a keyword arg: x. From version 0.12, the only valid positional argument will be `data`, and passing other arguments without an explicit keyword will result in an error or misinterpretation.\n",
      "  warnings.warn(\n"
     ]
    },
    {
     "data": {
      "text/plain": [
       "<AxesSubplot:xlabel='number of cup 2'>"
      ]
     },
     "execution_count": 15,
     "metadata": {},
     "output_type": "execute_result"
    },
    {
     "data": {
      "image/png": "[encoded data removed]",
      "text/plain": [
       "<Figure size 640x480 with 1 Axes>"
      ]
     },
     "metadata": {},
     "output_type": "display_data"
    }
   ],
   "source": [
    "# Box Plot\n",
    "import seaborn as sns\n",
    "sns.boxplot(df_2_new['number of cup 2'])"
   ]
  },
  {
   "cell_type": "markdown",
   "id": "7f0a9d82",
   "metadata": {},
   "source": [
    "##### Оценка объемов продаж Сорта 2"
   ]
  },
  {
   "cell_type": "code",
   "execution_count": 16,
   "id": "ad56863b",
   "metadata": {},
   "outputs": [
    {
     "name": "stdout",
     "output_type": "stream",
     "text": [
      "37686\n",
      "8\n"
     ]
    }
   ],
   "source": [
    "# Количество купленных чашек Сорта 2\n",
    "cup_2 = sum(df_2_new['number of cup 2'])\n",
    "print(cup_2)\n",
    "\n",
    "# Среднее количество проданных чашек Сорта 2\n",
    "avg_cup_2 =  math.floor(cup_2 / df_2_new.shape[0])\n",
    "print(avg_cup_2)"
   ]
  },
  {
   "cell_type": "markdown",
   "id": "4d67dc2d",
   "metadata": {},
   "source": [
    "##### Данные по продажам"
   ]
  },
  {
   "cell_type": "code",
   "execution_count": 17,
   "id": "b977146b",
   "metadata": {},
   "outputs": [
    {
     "data": {
      "text/html": [
       "<div>\n",
       "<style scoped>\n",
       "    .dataframe tbody tr th:only-of-type {\n",
       "        vertical-align: middle;\n",
       "    }\n",
       "\n",
       "    .dataframe tbody tr th {\n",
       "        vertical-align: top;\n",
       "    }\n",
       "\n",
       "    .dataframe thead th {\n",
       "        text-align: right;\n",
       "    }\n",
       "</style>\n",
       "<table border=\"1\" class=\"dataframe\">\n",
       "  <thead>\n",
       "    <tr style=\"text-align: right;\">\n",
       "      <th></th>\n",
       "      <th>cup sold</th>\n",
       "      <th>avg cup sold</th>\n",
       "    </tr>\n",
       "    <tr>\n",
       "      <th>cup</th>\n",
       "      <th></th>\n",
       "      <th></th>\n",
       "    </tr>\n",
       "  </thead>\n",
       "  <tbody>\n",
       "    <tr>\n",
       "      <th>cup old</th>\n",
       "      <td>47795</td>\n",
       "      <td>10</td>\n",
       "    </tr>\n",
       "    <tr>\n",
       "      <th>cup 1</th>\n",
       "      <td>67585</td>\n",
       "      <td>13</td>\n",
       "    </tr>\n",
       "    <tr>\n",
       "      <th>cup 2</th>\n",
       "      <td>37686</td>\n",
       "      <td>8</td>\n",
       "    </tr>\n",
       "  </tbody>\n",
       "</table>\n",
       "</div>"
      ],
      "text/plain": [
       "         cup sold  avg cup sold\n",
       "cup                            \n",
       "cup old     47795            10\n",
       "cup 1       67585            13\n",
       "cup 2       37686             8"
      ]
     },
     "execution_count": 17,
     "metadata": {},
     "output_type": "execute_result"
    }
   ],
   "source": [
    "# Визаулизация\n",
    "data = pd.DataFrame({'cup' : ['cup old', 'cup 1', 'cup 2'],\n",
    "                   'cup sold' : [cup_old, cup_1, cup_2],\n",
    "                   'avg cup sold' : [avg_cup_old, avg_cup_1, avg_cup_2]})\n",
    "data.set_index(['cup'], inplace = True)\n",
    "data"
   ]
  },
  {
   "cell_type": "markdown",
   "id": "eee9fca4",
   "metadata": {},
   "source": [
    "##### Проверка данных на нормальное распределение"
   ]
  },
  {
   "cell_type": "code",
   "execution_count": 18,
   "id": "b39da41d",
   "metadata": {},
   "outputs": [
    {
     "name": "stdout",
     "output_type": "stream",
     "text": [
      "ShapiroResult(statistic=0.9817960262298584, pvalue=3.3514514955738594e-24)\n"
     ]
    }
   ],
   "source": [
    "# До проведения эксперимента\n",
    "## Тест Шапиро-Уилка\n",
    "### Нулевая гипотеза: совокупность распределена нормально\n",
    "from scipy.stats import shapiro\n",
    "shap = shapiro(df['number of cup old'])\n",
    "print(shap)"
   ]
  },
  {
   "cell_type": "code",
   "execution_count": 19,
   "id": "1d7c400a",
   "metadata": {},
   "outputs": [
    {
     "data": {
      "text/plain": [
       "<AxesSubplot:xlabel='number of cup old', ylabel='Density'>"
      ]
     },
     "execution_count": 19,
     "metadata": {},
     "output_type": "execute_result"
    },
    {
     "data": {
      "image/png": "[encoded data removed]",
      "text/plain": [
       "<Figure size 640x480 with 1 Axes>"
      ]
     },
     "metadata": {},
     "output_type": "display_data"
    }
   ],
   "source": [
    "# Количество купленных чашек кофе до проведения эксперимента\n",
    "seaborn.histplot(df['number of cup old'],                 \n",
    "                 stat = 'density',           \n",
    "                 color = \"#A2CD5A\",   \n",
    "                 label = \"histogram\",        \n",
    "                 bins = 100)"
   ]
  },
  {
   "cell_type": "code",
   "execution_count": 20,
   "id": "c6d89a0b",
   "metadata": {},
   "outputs": [
    {
     "name": "stdout",
     "output_type": "stream",
     "text": [
      "ShapiroResult(statistic=0.9907116889953613, pvalue=1.2989448769491708e-17)\n"
     ]
    }
   ],
   "source": [
    "# Продажа Сорта 1\n",
    "## Тест Шапиро-Уилка\n",
    "### Нулевая гипотеза: совокупность распределена нормально\n",
    "from scipy.stats import shapiro\n",
    "shap = shapiro(df_1_new['number of cup 1'])\n",
    "print(shap)"
   ]
  },
  {
   "cell_type": "code",
   "execution_count": 21,
   "id": "f03f4e87",
   "metadata": {},
   "outputs": [
    {
     "data": {
      "text/plain": [
       "<AxesSubplot:xlabel='number of cup 1', ylabel='Density'>"
      ]
     },
     "execution_count": 21,
     "metadata": {},
     "output_type": "execute_result"
    },
    {
     "data": {
      "image/png": "[encoded data removed]",
      "text/plain": [
       "<Figure size 640x480 with 1 Axes>"
      ]
     },
     "metadata": {},
     "output_type": "display_data"
    }
   ],
   "source": [
    "# Количество купленных чашек кофе Сорта 1\n",
    "seaborn.histplot(df_1_new['number of cup 1'],                 \n",
    "                 stat = 'density',           \n",
    "                 color = \"#A2CD5A\",   \n",
    "                 label = \"histogram\",        \n",
    "                 bins = 100)"
   ]
  },
  {
   "cell_type": "code",
   "execution_count": 22,
   "id": "56e976ce",
   "metadata": {},
   "outputs": [
    {
     "name": "stdout",
     "output_type": "stream",
     "text": [
      "ShapiroResult(statistic=0.9760997295379639, pvalue=2.7610532276163846e-27)\n"
     ]
    }
   ],
   "source": [
    "# Продажа Сорта 2\n",
    "## Тест Шапиро-Уилка\n",
    "### Нулевая гипотеза: совокупность распределена нормально\n",
    "from scipy.stats import shapiro\n",
    "shap = shapiro(df_2_new['number of cup 2'])\n",
    "print(shap)"
   ]
  },
  {
   "cell_type": "code",
   "execution_count": 23,
   "id": "13547ae5",
   "metadata": {},
   "outputs": [
    {
     "data": {
      "text/plain": [
       "<AxesSubplot:xlabel='number of cup 2', ylabel='Density'>"
      ]
     },
     "execution_count": 23,
     "metadata": {},
     "output_type": "execute_result"
    },
    {
     "data": {
      "image/png": "[encoded data removed]",
      "text/plain": [
       "<Figure size 640x480 with 1 Axes>"
      ]
     },
     "metadata": {},
     "output_type": "display_data"
    }
   ],
   "source": [
    "# Количество купленных чашек кофе Сорта 2\n",
    "seaborn.histplot(df_2_new['number of cup 2'],                 \n",
    "                 stat = 'density',           \n",
    "                 color = \"#A2CD5A\",   \n",
    "                 label = \"histogram\",        \n",
    "                 bins = 100)"
   ]
  },
  {
   "cell_type": "markdown",
   "id": "26f077f1",
   "metadata": {},
   "source": [
    "##### Тестирование статистической гипотезы"
   ]
  },
  {
   "cell_type": "code",
   "execution_count": 24,
   "id": "ace62181",
   "metadata": {},
   "outputs": [
    {
     "name": "stdout",
     "output_type": "stream",
     "text": [
      "LeveneResult(statistic=314.93477348413717, pvalue=2.1181753847897865e-69)\n"
     ]
    }
   ],
   "source": [
    "# Оценка равенства дисперсий\n",
    "from scipy import stats\n",
    "\n",
    "# Браун-Форсайт-тест на равенство дисперсий для двух выборок\n",
    "## Нулевая гипотеза: дисперсии двух выборок равны\n",
    "brown_foresythe = stats.levene(number_of_cup_1, number_of_cup_2, center=\"median\")\n",
    "print(brown_foresythe)"
   ]
  },
  {
   "cell_type": "code",
   "execution_count": 25,
   "id": "1462ceb9",
   "metadata": {},
   "outputs": [
    {
     "data": {
      "text/plain": [
       "Ttest_indResult(statistic=84.75970738104071, pvalue=0.0)"
      ]
     },
     "execution_count": 25,
     "metadata": {},
     "output_type": "execute_result"
    }
   ],
   "source": [
    "# T-test\n",
    "## Нулевая гипотеза: средние для двух выборок равны\n",
    "scipy.stats.ttest_ind(number_of_cup_1, number_of_cup_2, equal_var=False)"
   ]
  },
  {
   "cell_type": "markdown",
   "id": "b541d1b5",
   "metadata": {},
   "source": [
    "### Распространение результатов тестирования на генеральную совокупность\n",
    "##### Генерация данных после проведения эксперимента"
   ]
  },
  {
   "cell_type": "code",
   "execution_count": 26,
   "id": "f38b9446",
   "metadata": {},
   "outputs": [
    {
     "data": {
      "text/html": [
       "<div>\n",
       "<style scoped>\n",
       "    .dataframe tbody tr th:only-of-type {\n",
       "        vertical-align: middle;\n",
       "    }\n",
       "\n",
       "    .dataframe tbody tr th {\n",
       "        vertical-align: top;\n",
       "    }\n",
       "\n",
       "    .dataframe thead th {\n",
       "        text-align: right;\n",
       "    }\n",
       "</style>\n",
       "<table border=\"1\" class=\"dataframe\">\n",
       "  <thead>\n",
       "    <tr style=\"text-align: right;\">\n",
       "      <th></th>\n",
       "      <th>number of cup new</th>\n",
       "    </tr>\n",
       "  </thead>\n",
       "  <tbody>\n",
       "    <tr>\n",
       "      <th>0</th>\n",
       "      <td>14</td>\n",
       "    </tr>\n",
       "    <tr>\n",
       "      <th>1</th>\n",
       "      <td>18</td>\n",
       "    </tr>\n",
       "    <tr>\n",
       "      <th>2</th>\n",
       "      <td>14</td>\n",
       "    </tr>\n",
       "    <tr>\n",
       "      <th>3</th>\n",
       "      <td>11</td>\n",
       "    </tr>\n",
       "    <tr>\n",
       "      <th>4</th>\n",
       "      <td>10</td>\n",
       "    </tr>\n",
       "    <tr>\n",
       "      <th>5</th>\n",
       "      <td>12</td>\n",
       "    </tr>\n",
       "    <tr>\n",
       "      <th>6</th>\n",
       "      <td>9</td>\n",
       "    </tr>\n",
       "    <tr>\n",
       "      <th>7</th>\n",
       "      <td>11</td>\n",
       "    </tr>\n",
       "    <tr>\n",
       "      <th>8</th>\n",
       "      <td>13</td>\n",
       "    </tr>\n",
       "    <tr>\n",
       "      <th>9</th>\n",
       "      <td>18</td>\n",
       "    </tr>\n",
       "  </tbody>\n",
       "</table>\n",
       "</div>"
      ],
      "text/plain": [
       "   number of cup new\n",
       "0                 14\n",
       "1                 18\n",
       "2                 14\n",
       "3                 11\n",
       "4                 10\n",
       "5                 12\n",
       "6                  9\n",
       "7                 11\n",
       "8                 13\n",
       "9                 18"
      ]
     },
     "execution_count": 26,
     "metadata": {},
     "output_type": "execute_result"
    }
   ],
   "source": [
    "np.random.seed(321)\n",
    "n_new = 5001\n",
    "\n",
    "# Количество купленных чашек кофе до проведения эксперимента\n",
    "num_of_cup_new = norm.rvs(size = 5000, loc = 14, scale = 3)\n",
    "num_of_cup_new[num_of_cup_new <= 0] = 0\n",
    "\n",
    "number_of_cup_new = []\n",
    "\n",
    "for cup in num_of_cup_new:\n",
    "    number_of_cup_new.append(int(cup))\n",
    "    \n",
    "\n",
    "# Визуализация\n",
    "df_new = pd.DataFrame({'number of cup new' : number_of_cup_new})\n",
    "df_new = df_new.loc[0:n_new, :]\n",
    "\n",
    "df_new.head(10)"
   ]
  },
  {
   "cell_type": "markdown",
   "id": "ad7d4f7c",
   "metadata": {},
   "source": [
    "##### Проверка данных на наличие выбросов"
   ]
  },
  {
   "cell_type": "code",
   "execution_count": 27,
   "id": "ee10ef0c",
   "metadata": {},
   "outputs": [
    {
     "name": "stderr",
     "output_type": "stream",
     "text": [
      "C:\\Users\\Mi\\anaconda3\\lib\\site-packages\\seaborn\\_decorators.py:36: FutureWarning: Pass the following variable as a keyword arg: x. From version 0.12, the only valid positional argument will be `data`, and passing other arguments without an explicit keyword will result in an error or misinterpretation.\n",
      "  warnings.warn(\n"
     ]
    },
    {
     "data": {
      "text/plain": [
       "<AxesSubplot:xlabel='number of cup new'>"
      ]
     },
     "execution_count": 27,
     "metadata": {},
     "output_type": "execute_result"
    },
    {
     "data": {
      "image/png": "[encoded data removed]",
      "text/plain": [
       "<Figure size 640x480 with 1 Axes>"
      ]
     },
     "metadata": {},
     "output_type": "display_data"
    }
   ],
   "source": [
    "# Box Plot\n",
    "import seaborn as sns\n",
    "sns.boxplot(df_new['number of cup new'])"
   ]
  },
  {
   "cell_type": "markdown",
   "id": "2a4532a2",
   "metadata": {},
   "source": [
    "##### Оценка объемов продаж на новых данных"
   ]
  },
  {
   "cell_type": "code",
   "execution_count": 28,
   "id": "1d4a9ce2",
   "metadata": {},
   "outputs": [
    {
     "name": "stdout",
     "output_type": "stream",
     "text": [
      "67585\n",
      "13\n"
     ]
    }
   ],
   "source": [
    "# Количество купленных чашек для новых данных\n",
    "cup_new = sum(df_new['number of cup new'])\n",
    "print(cup_new)\n",
    "\n",
    "# Среднее количество проданных чашек для новых данных\n",
    "avg_cup_new =  math.floor(cup_new / df_new.shape[0])\n",
    "print(avg_cup_new)"
   ]
  },
  {
   "cell_type": "markdown",
   "id": "c6067047",
   "metadata": {},
   "source": [
    "##### Оценка объемов продаж на исходных данных"
   ]
  },
  {
   "cell_type": "code",
   "execution_count": 29,
   "id": "03b16ad0",
   "metadata": {},
   "outputs": [
    {
     "name": "stdout",
     "output_type": "stream",
     "text": [
      "47890\n",
      "9\n"
     ]
    }
   ],
   "source": [
    "# Количество купленных чашек для исходных данных\n",
    "cup_old = sum(df_old['number of cup old'])\n",
    "print(cup_old)\n",
    "\n",
    "# Среднее количество проданных чашек для исходных данных\n",
    "avg_cup_old =  math.floor(cup_old / df_old.shape[0])\n",
    "print(avg_cup_old)"
   ]
  },
  {
   "cell_type": "markdown",
   "id": "f08be0ad",
   "metadata": {},
   "source": [
    "##### Итоговые данные по продажам"
   ]
  },
  {
   "cell_type": "code",
   "execution_count": 30,
   "id": "70572acf",
   "metadata": {},
   "outputs": [
    {
     "data": {
      "text/html": [
       "<div>\n",
       "<style scoped>\n",
       "    .dataframe tbody tr th:only-of-type {\n",
       "        vertical-align: middle;\n",
       "    }\n",
       "\n",
       "    .dataframe tbody tr th {\n",
       "        vertical-align: top;\n",
       "    }\n",
       "\n",
       "    .dataframe thead th {\n",
       "        text-align: right;\n",
       "    }\n",
       "</style>\n",
       "<table border=\"1\" class=\"dataframe\">\n",
       "  <thead>\n",
       "    <tr style=\"text-align: right;\">\n",
       "      <th></th>\n",
       "      <th>cup sold</th>\n",
       "      <th>avg cup sold</th>\n",
       "    </tr>\n",
       "    <tr>\n",
       "      <th>cup</th>\n",
       "      <th></th>\n",
       "      <th></th>\n",
       "    </tr>\n",
       "  </thead>\n",
       "  <tbody>\n",
       "    <tr>\n",
       "      <th>cup old</th>\n",
       "      <td>47890</td>\n",
       "      <td>9</td>\n",
       "    </tr>\n",
       "    <tr>\n",
       "      <th>cup new</th>\n",
       "      <td>67585</td>\n",
       "      <td>13</td>\n",
       "    </tr>\n",
       "  </tbody>\n",
       "</table>\n",
       "</div>"
      ],
      "text/plain": [
       "         cup sold  avg cup sold\n",
       "cup                            \n",
       "cup old     47890             9\n",
       "cup new     67585            13"
      ]
     },
     "execution_count": 30,
     "metadata": {},
     "output_type": "execute_result"
    }
   ],
   "source": [
    "# Визаулизация\n",
    "data_new = pd.DataFrame({'cup' : ['cup old', 'cup new'],\n",
    "                   'cup sold' : [cup_old, cup_new],\n",
    "                   'avg cup sold' : [avg_cup_old, avg_cup_new]})\n",
    "data_new.set_index(['cup'], inplace = True)\n",
    "data_new"
   ]
  },
  {
   "cell_type": "markdown",
   "id": "2f8f14ec",
   "metadata": {},
   "source": [
    "### Оценка эффектов воздействия"
   ]
  },
  {
   "cell_type": "markdown",
   "id": "40bf9eb1",
   "metadata": {},
   "source": [
    "#### Treatment Effect\n",
    "##### Расчет истинного эффекта воздействия"
   ]
  },
  {
   "cell_type": "code",
   "execution_count": 31,
   "id": "4d93da39",
   "metadata": {},
   "outputs": [
    {
     "data": {
      "text/html": [
       "<div>\n",
       "<style scoped>\n",
       "    .dataframe tbody tr th:only-of-type {\n",
       "        vertical-align: middle;\n",
       "    }\n",
       "\n",
       "    .dataframe tbody tr th {\n",
       "        vertical-align: top;\n",
       "    }\n",
       "\n",
       "    .dataframe thead th {\n",
       "        text-align: right;\n",
       "    }\n",
       "</style>\n",
       "<table border=\"1\" class=\"dataframe\">\n",
       "  <thead>\n",
       "    <tr style=\"text-align: right;\">\n",
       "      <th></th>\n",
       "      <th>TE</th>\n",
       "      <th>TE Value</th>\n",
       "    </tr>\n",
       "  </thead>\n",
       "  <tbody>\n",
       "    <tr>\n",
       "      <th>0</th>\n",
       "      <td>TE cup</td>\n",
       "      <td>19695.0</td>\n",
       "    </tr>\n",
       "    <tr>\n",
       "      <th>1</th>\n",
       "      <td>TE avg</td>\n",
       "      <td>4.0</td>\n",
       "    </tr>\n",
       "  </tbody>\n",
       "</table>\n",
       "</div>"
      ],
      "text/plain": [
       "       TE  TE Value\n",
       "0  TE cup   19695.0\n",
       "1  TE avg       4.0"
      ]
     },
     "execution_count": 31,
     "metadata": {},
     "output_type": "execute_result"
    }
   ],
   "source": [
    "# Истинный эффект воздействия для количества проданных чашек\n",
    "TE_cup = np.mean(cup_new) - np.mean(cup_old)\n",
    "\n",
    "# Истинный эффект воздействия для среднего количества чашек на клиента\n",
    "TE_avg = (avg_cup_new) - (avg_cup_old)\n",
    "\n",
    "data_TE = pd.DataFrame({'TE' : ['TE cup', 'TE avg'],\n",
    "                   'TE Value' : [TE_cup, TE_avg]})\n",
    "data_TE"
   ]
  },
  {
   "cell_type": "markdown",
   "id": "dd880966",
   "metadata": {},
   "source": [
    "##### Проверка статистической значимости полученных результатов"
   ]
  },
  {
   "cell_type": "code",
   "execution_count": 32,
   "id": "87d764c4",
   "metadata": {},
   "outputs": [
    {
     "name": "stdout",
     "output_type": "stream",
     "text": [
      "LeveneResult(statistic=982.0066857297414, pvalue=1.044971499385189e-205)\n"
     ]
    }
   ],
   "source": [
    "# Оценка равенства дисперсий\n",
    "from scipy import stats\n",
    "\n",
    "# Браун-Форсайт-тест на равенство дисперсий для двух выборок\n",
    "## Нулевая гипотеза: дисперсии двух выборок равны\n",
    "brown_foresythe = stats.levene(number_of_cup_old, number_of_cup_new, center=\"median\")\n",
    "print(brown_foresythe)"
   ]
  },
  {
   "cell_type": "code",
   "execution_count": 33,
   "id": "0b6f45c8",
   "metadata": {},
   "outputs": [
    {
     "data": {
      "text/plain": [
       "Ttest_indResult(statistic=-48.26663190345314, pvalue=0.0)"
      ]
     },
     "execution_count": 33,
     "metadata": {},
     "output_type": "execute_result"
    }
   ],
   "source": [
    "# T-test\n",
    "## Нулевая гипотеза: средние для двух выборок равны\n",
    "scipy.stats.ttest_ind(number_of_cup_old, number_of_cup_new, equal_var=False)"
   ]
  }
 ],
 "metadata": {
  "kernelspec": {
   "display_name": "Python 3 (ipykernel)",
   "language": "python",
   "name": "python3"
  },
  "language_info": {
   "codemirror_mode": {
    "name": "ipython",
    "version": 3
   },
   "file_extension": ".py",
   "mimetype": "text/x-python",
   "name": "python",
   "nbconvert_exporter": "python",
   "pygments_lexer": "ipython3",
   "version": "3.9.13"
  }
 },
 "nbformat": 4,
 "nbformat_minor": 5
}
